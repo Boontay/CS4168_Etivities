{
 "cells": [
  {
   "cell_type": "markdown",
   "metadata": {},
   "source": [
    "# Lab 1: Exploratory Data Analysis (EDA)"
   ]
  },
  {
   "cell_type": "markdown",
   "metadata": {},
   "source": [
    "This lab exercise demonstrates EDA of an example dataset with the Python modules `Pandas`, `Numpy`, `Matplotib` and `Seaborn`.\n",
    "\n",
    "> *\"At a high level, EDA is the practice of using visual and quantitative methods to understand and summarize a dataset without making any assumptions about its contents. It is a crucial step to take before diving into machine learning or statistical modeling because it provides the context needed to develop an appropriate model for the problem at hand and to correctly interpret its results.\"*\n",
    "> <a href=\"https://www.svds.com/value-exploratory-data-analysis/\">Chloe Mawer</a> "
   ]
  },
  {
   "cell_type": "markdown",
   "metadata": {},
   "source": [
    "## A. Importing Modules and Dataset"
   ]
  },
  {
   "cell_type": "code",
   "execution_count": null,
   "metadata": {},
   "outputs": [],
   "source": [
    "# The Python modules uses in this tutorial are:\n",
    "\n",
    "# - Pandas\n",
    "# - Numpy\n",
    "# - Matplotlib\n",
    "# - Seaborn\n",
    "\n",
    "import pandas as pd\n",
    "import numpy as np\n",
    "import matplotlib.pyplot as plt\n",
    "import seaborn as sns"
   ]
  },
  {
   "cell_type": "markdown",
   "metadata": {},
   "source": [
    "After importing the modules, the next step is to load the dataset into a Pandas dataframe.\n",
    "Dataframe is the term used in Pandas for two-dimensional arrays.\n",
    "\n",
    "In this tutorial, we use the example dataset loans_train.csv available as a CSV file.\n",
    "The file loans_train.csv is expected to be in the same directory as this notebook."
   ]
  },
  {
   "cell_type": "code",
   "execution_count": null,
   "metadata": {},
   "outputs": [],
   "source": [
    "df = pd.read_csv('./bank.csv')\n",
    "\n",
    "# You can also open loans_train.csv with Excel and take a look at it."
   ]
  },
  {
   "cell_type": "markdown",
   "metadata": {},
   "source": [
    "## B. Quick Data Exploration"
   ]
  },
  {
   "cell_type": "markdown",
   "metadata": {},
   "source": [
    "Once the dataset is loaded into a dataframe, we can have a look at the first and the last few data rows with the dataframe methods `head()` and `tail()`, respectively."
   ]
  },
  {
   "cell_type": "code",
   "execution_count": null,
   "metadata": {},
   "outputs": [],
   "source": [
    "# Print first 5 rows of the dataframe\n",
    "df.head(5)"
   ]
  },
  {
   "cell_type": "code",
   "execution_count": null,
   "metadata": {},
   "outputs": [],
   "source": [
    "# Print last 5 rows of the dataframe\n",
    "df.tail(5)"
   ]
  },
  {
   "cell_type": "markdown",
   "metadata": {},
   "source": [
    "We can see that the dataset has 614 data rows, and both numerical and categorical attributes. The data rows are typically called *observations* or *examples*, and the columns are also called *attributes* or *features*.\n",
    "\n",
    "The last attribute `subscribed` indicates whether a person subscribed (yes) or not (no). This attribute would be a primary candidate for an attribute to *learn* to predict from the values of the other attributes. Before building a predictive model, though, the first step is to get to know the dataset better (the goal of this exercise) and prepare it for machine learning (the goal of the next exercise)."
   ]
  },
  {
   "cell_type": "markdown",
   "metadata": {},
   "source": [
    "#### B.1. Quick Examination of Numerical Attributes"
   ]
  },
  {
   "cell_type": "code",
   "execution_count": null,
   "metadata": {},
   "outputs": [],
   "source": [
    "# Print statistical summary for all numerical attributes\n",
    "df.describe()"
   ]
  },
  {
   "cell_type": "markdown",
   "metadata": {},
   "source": [
    "There are a few inferences we can draw by looking at the output of `describe()`:\n",
    "\n",
    "- `age` has (2000 – 1988) 12 missing values.\n",
    "\n",
    "Please note that we can also get an idea of a possible skew in the data by comparing the mean to the median. The median of each numerical attribute is the 50% figure."
   ]
  },
  {
   "cell_type": "markdown",
   "metadata": {},
   "source": [
    "We can also examine the correlation matrix of all numerical attributes in the form of a **heat map**."
   ]
  },
  {
   "cell_type": "code",
   "execution_count": null,
   "metadata": {},
   "outputs": [],
   "source": [
    "#correlation matrix\n",
    "sns.heatmap(df.corr());"
   ]
  },
  {
   "cell_type": "markdown",
   "metadata": {},
   "source": [
    "The heap suggests corretation greater than 0 with `pdays` and `duration`, although the most significant corecation is between 'duration' and 'pdays'. That is, there was a shorter campaign for those with fewer pay days.\n",
    "\n",
    "We can further examine the pairwise distribution between `age`, `balance`, `day`, `duration`, `campaign`, `pdays`, `previous` a **pair plot**. To verify the direct relation with `campaign` and `pdays`, another pair plot is created to compare the two variables."
   ]
  },
  {
   "cell_type": "code",
   "execution_count": null,
   "metadata": {},
   "outputs": [],
   "source": [
    "# note that by applying the method dropna() we drop all rows with missing values \n",
    "sns.pairplot(data=df[['age', 'balance', 'day', 'duration', 'campaign', 'pdays', 'previous']].dropna())\n",
    "sns.pairplot(data=df[['duration', 'pdays']].dropna())\n",
    "plt.show()"
   ]
  },
  {
   "cell_type": "markdown",
   "metadata": {},
   "source": [
    "A pair plot can be overwhelming at first, but it can also let us quickly identify interesting trends which can be examined further."
   ]
  },
  {
   "cell_type": "markdown",
   "metadata": {},
   "source": [
    "#### B.2. Quick Examination of Categorical Attributes"
   ]
  },
  {
   "cell_type": "markdown",
   "metadata": {},
   "source": [
    "For the categorical (non-numerical) attributes (e.g. `Property_Area`, `Gender`, `Education`, etc.), we can look at the count of each value/category (i.e. a frequency table) to understand how well each category is represented in the dataset.\n",
    "\n",
    "`dfname['column_name']` is a basic indexing technique to acess a particular column of the dataframe.\n",
    "\n",
    "For example, for attribute `Gender` the frequency table can be printed by the command:"
   ]
  },
  {
   "cell_type": "code",
   "execution_count": null,
   "metadata": {},
   "outputs": [],
   "source": [
    "df['education'].value_counts()"
   ]
  },
  {
   "cell_type": "markdown",
   "metadata": {},
   "source": [
    "We can see that the number of jobs with a background in secondary economic activities are greater than both tertiary and primary combined. We can also check the total count of values in column `Gender` with the command:"
   ]
  },
  {
   "cell_type": "code",
   "execution_count": null,
   "metadata": {},
   "outputs": [],
   "source": [
    "df['education'].count()"
   ]
  },
  {
   "cell_type": "markdown",
   "metadata": {},
   "source": [
    "That is, there are 13 missing values in column `Gender`."
   ]
  },
  {
   "cell_type": "markdown",
   "metadata": {},
   "source": [
    "## C. Distribution Analysis for Numerical Atributes"
   ]
  },
  {
   "cell_type": "markdown",
   "metadata": {},
   "source": [
    "Now that we are familiar with the basic dataset characteristics, let's look closer at the distribution of some numerical attributes. \n",
    "\n",
    "Let's take, for example, the numerical attributes `balance` and `age`. "
   ]
  },
  {
   "cell_type": "code",
   "execution_count": null,
   "metadata": {},
   "outputs": [],
   "source": [
    "# Let's start by plotting a histogram of age using the command:\n",
    "\n",
    "df['age'].hist(bins=50)\n",
    "plt.xlabel('Applicant Age')\n",
    "plt.ylabel('Number of Applicants')\n",
    "plt.show()"
   ]
  },
  {
   "cell_type": "markdown",
   "metadata": {},
   "source": [
    "In the histogram above, we observe that there are few extreme values of `age`. The use of 50 bins allows to depict the distribution clearly."
   ]
  },
  {
   "cell_type": "markdown",
   "metadata": {},
   "source": [
    "Next, we look at boxp lots to understand the distribution better."
   ]
  },
  {
   "cell_type": "code",
   "execution_count": null,
   "metadata": {},
   "outputs": [],
   "source": [
    "df.boxplot(column='age')\n",
    "plt.show()"
   ]
  },
  {
   "cell_type": "markdown",
   "metadata": {},
   "source": [
    "The box plot above confirms the presence of a lot of outliers/extreme values. This may be attributed to the income disparity in the society. Part of this can be due to the fact that we are looking at people with different ages. Let us segregate them by `age`."
   ]
  },
  {
   "cell_type": "code",
   "execution_count": null,
   "metadata": {},
   "outputs": [],
   "source": [
    "# Box plots of age, grouped by the categorical attribute balance\n",
    "df.boxplot(column='age', by='balance')\n",
    "plt.title('Box plot of age grouped by balance')\n",
    "plt.suptitle(\"\") # get rid of the automatic 'Box plot grouped by group_by_column_name' title\n",
    "plt.show()"
   ]
  },
  {
   "cell_type": "markdown",
   "metadata": {},
   "source": [
    "We can see that while there is a wide range of account balance levels throughout the different ages, the general trend is that the older the account holder, the higher their balance."
   ]
  },
  {
   "cell_type": "code",
   "execution_count": null,
   "metadata": {},
   "outputs": [],
   "source": [
    "# Next, we examine a histogram of the numerical attribute balance\n",
    "\n",
    "df['balance'].hist(bins=50)\n",
    "plt.xlabel(\"Balance Amount\")\n",
    "plt.ylabel('Number of Applicants')\n",
    "plt.show()"
   ]
  },
  {
   "cell_type": "code",
   "execution_count": null,
   "metadata": {},
   "outputs": [],
   "source": [
    "# Boxp lot of balance\n",
    "df.boxplot(column='balance')\n",
    "plt.show()"
   ]
  },
  {
   "cell_type": "markdown",
   "metadata": {},
   "source": [
    "Again, there are some extreme values. Clearly, both `age` and `balance` require some amount of data munging. `balance` has missing values as well as many extreme values, while `age` has a few extreme values, which demand deeper understanding. We will take this up in the next lab exercise."
   ]
  },
  {
   "cell_type": "markdown",
   "metadata": {},
   "source": [
    "Finally, let's examine the relationship between `ApplicantIncome` and `LoanAmount` with a scatter plot."
   ]
  },
  {
   "cell_type": "code",
   "execution_count": null,
   "metadata": {},
   "outputs": [],
   "source": [
    "df.plot.scatter(x='age', y='balance')\n",
    "plt.show()"
   ]
  },
  {
   "cell_type": "markdown",
   "metadata": {},
   "source": [
    "Based on this scatter plot we can say that LoanAmount probably tends to grow linearly as ApplicantIncome grows. We can see the trend clearer with `Seaborn's regplot`, which draws a line that best fits the relation between two numeric attributes."
   ]
  },
  {
   "cell_type": "code",
   "execution_count": null,
   "metadata": {},
   "outputs": [],
   "source": [
    "sns.regplot(data=df, x='age', y='balance')\n",
    "plt.show()"
   ]
  },
  {
   "cell_type": "markdown",
   "metadata": {},
   "source": [
    "This regplot suggests that typically LoanAmount is 100 times lower than ApplicantIncome."
   ]
  },
  {
   "cell_type": "markdown",
   "metadata": {},
   "source": [
    "## D. Box Plot Variations"
   ]
  },
  {
   "cell_type": "markdown",
   "metadata": {},
   "source": [
    "Next, we will use the `Seaborn` module to demonstrate a few variations or alternatives to box plots."
   ]
  },
  {
   "cell_type": "code",
   "execution_count": null,
   "metadata": {},
   "outputs": [],
   "source": [
    "#First, let's draw a seaborn-style box plot for LoanAmount\n",
    "\n",
    "sns.boxplot(x=df['balance'], orient='v', width=0.2)\n",
    "plt.show()"
   ]
  },
  {
   "cell_type": "code",
   "execution_count": null,
   "metadata": {},
   "outputs": [],
   "source": [
    "#Violin plot for LoanAmount\n",
    "\n",
    "sns.violinplot(x=df['balance'], orient='v', width=0.5)\n",
    "plt.show()"
   ]
  },
  {
   "cell_type": "code",
   "execution_count": null,
   "metadata": {},
   "outputs": [],
   "source": [
    "#Strip plot for LoanAmount\n",
    "\n",
    "sns.stripplot(x=df['balance'], jitter=True, orient='v')\n",
    "plt.show()"
   ]
  },
  {
   "cell_type": "code",
   "execution_count": null,
   "metadata": {},
   "outputs": [],
   "source": [
    "#Swar mplot for LoanAmount\n",
    "\n",
    "sns.swarmplot(x=df['balance'], orient='v')\n",
    "plt.show()"
   ]
  },
  {
   "cell_type": "markdown",
   "metadata": {},
   "source": [
    "Let's redraw the box plots of `ApplicantIncome` grouped by the categorical attribute `Education` as violin plots."
   ]
  },
  {
   "cell_type": "code",
   "execution_count": null,
   "metadata": {},
   "outputs": [],
   "source": [
    "sns.violinplot(data=df, x='education', y='age')\n",
    "plt.show()"
   ]
  },
  {
   "cell_type": "markdown",
   "metadata": {},
   "source": [
    "We can split each violin plot by a binary attribute. For example, we can add `contact` to the plot above as follows."
   ]
  },
  {
   "cell_type": "code",
   "execution_count": null,
   "metadata": {},
   "outputs": [],
   "source": [
    "sns.violinplot(data=df, x='education', y='age', hue='contact', split=True)\n",
    "plt.show()"
   ]
  },
  {
   "cell_type": "markdown",
   "metadata": {},
   "source": [
    "The plot above suggests that younger people with a primary education are the most likely to be contacted with a cellular phone."
   ]
  },
  {
   "cell_type": "markdown",
   "metadata": {},
   "source": [
    "## E. Distribution Analysis for Categorical Attributes"
   ]
  },
  {
   "cell_type": "markdown",
   "metadata": {},
   "source": [
    "The attribute `previous` is categorical.\n",
    "\n",
    "Let's look at the chances of getting a loan based on credit history. That is, let's examine the relation between atributes `previous` and `subscribed`."
   ]
  },
  {
   "cell_type": "markdown",
   "metadata": {},
   "source": [
    "First, let's take a look at the frequency table for attribute `Credit_History`:"
   ]
  },
  {
   "cell_type": "code",
   "execution_count": null,
   "metadata": {},
   "outputs": [],
   "source": [
    "frequency_table = df['loan'].value_counts(ascending=True)\n",
    "print('Frequency Table for previous:') \n",
    "print(frequency_table)"
   ]
  },
  {
   "cell_type": "markdown",
   "metadata": {},
   "source": [
    "Next, build a pivot table for `Loan_Status` and `Credit_History`, i.e. find the mean `Loan_Status` for both `Credit_History`=0 and `Credit_History`=1."
   ]
  },
  {
   "cell_type": "code",
   "execution_count": null,
   "metadata": {},
   "outputs": [],
   "source": [
    "pivot_table_LC = df.pivot_table(values='loan',\n",
    "                                index='subscribed',\n",
    "                                aggfunc=lambda x: x.map({'yes':1, 'no':0}).mean()) "
   ]
  },
  {
   "cell_type": "markdown",
   "metadata": {},
   "source": [
    "Here the values of `Loan_Status` are grouped by the index `Credit_History`, and the aggfunc is applied to each group. In the example above aggfunc is `mean()`, assuming the Y and N values in column `Loan_Status` are replaced by 1s and 0s, respectively."
   ]
  },
  {
   "cell_type": "code",
   "execution_count": null,
   "metadata": {},
   "outputs": [],
   "source": [
    "# Print pivot table\n",
    "print(pivot_table_LC)"
   ]
  },
  {
   "cell_type": "markdown",
   "metadata": {},
   "source": [
    "The pivot table can be interpreted as follows. The probability for succeeding in getting a person with a loan subscribed is 4.3%, and without a loan is 20.7%."
   ]
  },
  {
   "cell_type": "markdown",
   "metadata": {},
   "source": [
    "Let's plot `Credit_History` and the probability of getting a loan based on `Credit_History`."
   ]
  },
  {
   "cell_type": "code",
   "execution_count": null,
   "metadata": {},
   "outputs": [],
   "source": [
    "# Plot the frequency table for Loan Status\n",
    "frequency_table.plot(kind='bar')\n",
    "plt.xlabel('Loan Status')\n",
    "plt.ylabel('Number of Applicants')\n",
    "plt.title('Applicants by Loan Status')\n",
    "plt.show()"
   ]
  },
  {
   "cell_type": "code",
   "execution_count": null,
   "metadata": {},
   "outputs": [],
   "source": [
    "# Plot pivot table\n",
    "pivot_table_LC.plot(kind='bar')\n",
    "plt.xlabel('Loan Status')\n",
    "plt.ylabel('Probability of a Person Subscribing')\n",
    "plt.title('Probability of Getting a Subscription by Loan Status')\n",
    "plt.legend().set_visible(False) # we don't need the default legend"
   ]
  },
  {
   "cell_type": "markdown",
   "metadata": {},
   "source": [
    "Alternately, the two plots above can be combined in a stacked chart by plotting the output of with Pandas' `crosstab()` function:"
   ]
  },
  {
   "cell_type": "code",
   "execution_count": null,
   "metadata": {},
   "outputs": [],
   "source": [
    "crosstab_CL = pd.crosstab(df['loan'], df['subscribed'])\n",
    "crosstab_CL.plot(kind='bar', stacked=True, color=['red', 'blue'])\n",
    "plt.ylabel('Number of Applicants')\n",
    "plt.show()"
   ]
  },
  {
   "cell_type": "markdown",
   "metadata": {},
   "source": [
    "Furthermore, we can stackchart `loan` and `housing` against `subscribed`."
   ]
  },
  {
   "cell_type": "code",
   "execution_count": null,
   "metadata": {},
   "outputs": [],
   "source": [
    "crosstab_CGL = pd.crosstab([df['loan'], df['housing']], df['subscribed'])\n",
    "crosstab_CGL.plot(kind='bar', stacked=True, color=['red', 'blue'], grid=False)\n",
    "plt.ylabel('Number of Applicants')\n",
    "plt.show()"
   ]
  },
  {
   "cell_type": "markdown",
   "metadata": {},
   "source": [
    "The plot above suggests that those with a house and without a loan are the most likely to get a subscription."
   ]
  },
  {
   "cell_type": "code",
   "execution_count": null,
   "metadata": {},
   "outputs": [],
   "source": [
    "pivot_table_LCG = df.pivot_table(values='subscribed', \n",
    "                           index='loan', \n",
    "                           columns='housing',\n",
    "                           aggfunc=lambda x: x.map({'yes':1, 'no':0}).mean())\n",
    "sns.heatmap(pivot_table_LCG, annot=True)\n",
    "plt.show()"
   ]
  },
  {
   "cell_type": "markdown",
   "metadata": {},
   "source": [
    "We can see now that a person with housing is far more likely to get a subscription, whether or not they have a loan. However, the existence of a loan greatly increases the likelihood of getting a subscription."
   ]
  }
 ],
 "metadata": {
  "kernelspec": {
   "display_name": "Python 3",
   "language": "python",
   "name": "python3"
  },
  "language_info": {
   "codemirror_mode": {
    "name": "ipython",
    "version": 3
   },
   "file_extension": ".py",
   "mimetype": "text/x-python",
   "name": "python",
   "nbconvert_exporter": "python",
   "pygments_lexer": "ipython3",
   "version": "3.8.5"
  }
 },
 "nbformat": 4,
 "nbformat_minor": 2
}
