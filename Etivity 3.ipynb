{
 "cells": [
  {
   "cell_type": "markdown",
   "metadata": {},
   "source": [
    "# Lab 3: Clustering and Manifold Learning"
   ]
  },
  {
   "cell_type": "markdown",
   "metadata": {},
   "source": [
    "This notebook demonstrates:\n",
    "- the k-Means clustering algorithm\n",
    "- the use of manifold-learning techniques to project a clustered dataset into a 2D space and visualise it as a scatterplot\n",
    "\n",
    "It is assumed that the input dataset contains ___only numerical___ attributes. To use this code with a dataset that contains categorical attributes, they first need to be _somehow_ transformed to numerical. How categorical attributes can be represented as numerical may depend on the nature of the dataset.\n",
    "\n",
    "When you go through this notebook for the first time you may __skip section C__ and go back to it at the end."
   ]
  },
  {
   "cell_type": "markdown",
   "metadata": {},
   "source": [
    "### A. Import Python Modules and Dataset"
   ]
  },
  {
   "cell_type": "code",
   "execution_count": 1,
   "metadata": {},
   "outputs": [],
   "source": [
    "import pandas as pd\n",
    "import numpy as np\n",
    "import matplotlib.pyplot as plt\n",
    "\n",
    "from sklearn import manifold #needed for multidimensional scaling (MDS) and t-SNE\n",
    "from sklearn import cluster #needed for k-Means clustering\n",
    "from sklearn import preprocessing #needed for scaling attributes to the nterval [0,1]"
   ]
  },
  {
   "cell_type": "markdown",
   "metadata": {},
   "source": [
    "#### Load the dataset"
   ]
  },
  {
   "cell_type": "code",
   "execution_count": 2,
   "metadata": {},
   "outputs": [],
   "source": [
    "df = pd.read_csv(\"./loans_train_prepared-1.csv\")"
   ]
  },
  {
   "cell_type": "code",
   "execution_count": 3,
   "metadata": {},
   "outputs": [],
   "source": [
    "data = np.array(df.values, dtype=float)"
   ]
  },
  {
   "cell_type": "code",
   "execution_count": 4,
   "metadata": {},
   "outputs": [
    {
     "name": "stdout",
     "output_type": "stream",
     "text": [
      "(number of examples, number of attributes):  (614, 16)\n"
     ]
    }
   ],
   "source": [
    "print('(number of examples, number of attributes): ', data.shape)"
   ]
  },
  {
   "cell_type": "markdown",
   "metadata": {},
   "source": [
    "### B. Rescale the Data\n",
    "Here we rescale the values in each column to the interval $[0,1]$ with MinMaxScaler. Please note that if your dataset is already prepared for ML there is no need to rescale it again. See https://scikit-learn.org/stable/modules/preprocessing.html for alternative rescaling techniques. In your work on this exercise experiment with other rescaling techniques to see if they lead to a more insightful clustering."
   ]
  },
  {
   "cell_type": "code",
   "execution_count": 5,
   "metadata": {},
   "outputs": [],
   "source": [
    "min_max_scaler = preprocessing.MinMaxScaler()\n",
    "data = min_max_scaler.fit_transform(data)"
   ]
  },
  {
   "cell_type": "markdown",
   "metadata": {},
   "source": [
    "### C. Scatterplot Function (to be used below for visualising a clustering)\n",
    "\n",
    "Skip this section when you read the notebook for the first time.\n",
    "\n",
    "The function `clustering_scatterplot()` creates the 2D scatter plot of the clustered dataset."
   ]
  },
  {
   "cell_type": "code",
   "execution_count": 6,
   "metadata": {},
   "outputs": [],
   "source": [
    "colors = np.array(['orange', 'blue', 'lime', 'khaki', 'pink', 'green', 'purple'])\n",
    "\n",
    "# points - a 2D array of (x,y) coordinates of data points\n",
    "# labels - an array of numeric labels in the interval [0..k-1], one for each point\n",
    "# centers - a 2D array of (x, y) coordinates of cluster centers\n",
    "# title - title of the plot\n",
    "\n",
    "\n",
    "def clustering_scatterplot(points, labels, centers, title):\n",
    "    \n",
    "    \n",
    "    n_clusters = np.unique(labels).size\n",
    "    for i in range(n_clusters):\n",
    "        h = plt.scatter(points[labels==i,0],\n",
    "                        points[labels==i,1], \n",
    "                        c=colors[i%colors.size],\n",
    "                        label = 'cluster '+str(i))\n",
    "\n",
    "    # plot the centers of the clusters\n",
    "    if centers is not None:\n",
    "        plt.scatter(centers[:,0], centers[:,1], c='r', marker='*', s=500)\n",
    "\n",
    "    _ = plt.title(title)\n",
    "    _ = plt.legend()\n",
    "    _ = plt.xlabel('x')\n",
    "    _ = plt.ylabel('y')"
   ]
  },
  {
   "cell_type": "markdown",
   "metadata": {},
   "source": [
    "### D. K-Means Clustering"
   ]
  },
  {
   "cell_type": "markdown",
   "metadata": {},
   "source": [
    "Number of clusters $k$."
   ]
  },
  {
   "cell_type": "code",
   "execution_count": 7,
   "metadata": {},
   "outputs": [],
   "source": [
    "k = 4"
   ]
  },
  {
   "cell_type": "code",
   "execution_count": 8,
   "metadata": {},
   "outputs": [],
   "source": [
    "### D. K-Means Clustering\n",
    "# The following k values were tested:\n",
    "#      k=3: There was not much variation in the values between clusters.\n",
    "#      k=4: Very few null values, and some nice variation in non-null values.\n",
    "#      k=5: Some null values, and some nice variation in non-null values.\n",
    "#      k=6: Seems to have some nice variaty, but a lot more values than in k=5.\n",
    "\n",
    "# Thus, assuming we want to avoid null values, k=4 appears to be the best value of k to choose."
   ]
  },
  {
   "cell_type": "markdown",
   "metadata": {},
   "source": [
    "#### Run k-Means\n",
    "\n",
    "See https://scikit-learn.org/stable/modules/clustering.html for alternative clustering methods."
   ]
  },
  {
   "cell_type": "code",
   "execution_count": 9,
   "metadata": {},
   "outputs": [],
   "source": [
    "clustered_data_sklearn = cluster.KMeans(n_clusters=k, n_init=10, max_iter=300).fit(data)"
   ]
  },
  {
   "cell_type": "markdown",
   "metadata": {},
   "source": [
    "### E. Apply a manifold-learning technique to project the data set to a 2D space\n",
    "\n",
    "https://scikit-learn.org/stable/modules/manifold.html"
   ]
  },
  {
   "cell_type": "markdown",
   "metadata": {},
   "source": [
    "Append the cluster centers to the dataset."
   ]
  },
  {
   "cell_type": "code",
   "execution_count": 10,
   "metadata": {},
   "outputs": [],
   "source": [
    "data_and_centers = np.r_[data,clustered_data_sklearn.cluster_centers_]"
   ]
  },
  {
   "cell_type": "markdown",
   "metadata": {},
   "source": [
    "#### E1. Apply multi-dimensional scaling (MDS) to project both the data and the k-Means cluster centers to a 2D space"
   ]
  },
  {
   "cell_type": "markdown",
   "metadata": {},
   "source": [
    "Project both the data and the k-Means cluster centers to 2D."
   ]
  },
  {
   "cell_type": "code",
   "execution_count": 11,
   "metadata": {},
   "outputs": [
    {
     "name": "stdout",
     "output_type": "stream",
     "text": [
      "transformation complete\n"
     ]
    }
   ],
   "source": [
    "XYcoordinates = manifold.MDS(n_components=2).fit_transform(data_and_centers)\n",
    "print(\"transformation complete\")"
   ]
  },
  {
   "cell_type": "markdown",
   "metadata": {},
   "source": [
    "Plot the transformed examples and the centers. Use the cluster assignment to colour the examples."
   ]
  },
  {
   "cell_type": "code",
   "execution_count": 12,
   "metadata": {},
   "outputs": [
    {
     "data": {
      "image/png": "[encoded data removed]",
      "text/plain": [
       "<Figure size 432x288 with 1 Axes>"
      ]
     },
     "metadata": {
      "needs_background": "light"
     },
     "output_type": "display_data"
    }
   ],
   "source": [
    "clustering_scatterplot(points=XYcoordinates[:-k,:], \n",
    "                       labels=clustered_data_sklearn.labels_, \n",
    "                       centers=XYcoordinates[-k:,:], \n",
    "                       title='MDS')"
   ]
  },
  {
   "cell_type": "markdown",
   "metadata": {},
   "source": [
    "#### E2. Apply t-SNE to project both the data and the k-Means cluster centers to a 2D space"
   ]
  },
  {
   "cell_type": "markdown",
   "metadata": {},
   "source": [
    "Project both the data and the k-Means cluster centers to 2D."
   ]
  },
  {
   "cell_type": "code",
   "execution_count": 13,
   "metadata": {},
   "outputs": [
    {
     "name": "stdout",
     "output_type": "stream",
     "text": [
      "transformation complete\n"
     ]
    }
   ],
   "source": [
    "XYcoordinates = manifold.TSNE(n_components=2).fit_transform(data_and_centers)\n",
    "print(\"transformation complete\")"
   ]
  },
  {
   "cell_type": "markdown",
   "metadata": {},
   "source": [
    "Plot the transformed examples and the centers. Use the cluster assignment to colour the examples."
   ]
  },
  {
   "cell_type": "code",
   "execution_count": 14,
   "metadata": {},
   "outputs": [
    {
     "data": {
      "image/png": "[encoded data removed]",
      "text/plain": [
       "<Figure size 432x288 with 1 Axes>"
      ]
     },
     "metadata": {
      "needs_background": "light"
     },
     "output_type": "display_data"
    }
   ],
   "source": [
    "clustering_scatterplot(points=XYcoordinates[:-k,:], \n",
    "                       labels=clustered_data_sklearn.labels_,\n",
    "                       centers=XYcoordinates[-k:,:], \n",
    "                       title='TSNE')"
   ]
  },
  {
   "cell_type": "markdown",
   "metadata": {},
   "source": [
    "### F. Cluster Analysis"
   ]
  },
  {
   "cell_type": "markdown",
   "metadata": {},
   "source": [
    "#### Add the cluster labels as an extra column in the original dataframe"
   ]
  },
  {
   "cell_type": "code",
   "execution_count": 15,
   "metadata": {},
   "outputs": [],
   "source": [
    "df['cluster'] = pd.Series(clustered_data_sklearn.labels_, index=df.index)"
   ]
  },
  {
   "cell_type": "code",
   "execution_count": 16,
   "metadata": {},
   "outputs": [
    {
     "data": {
      "text/html": [
       "<div>\n",
       "<style scoped>\n",
       "    .dataframe tbody tr th:only-of-type {\n",
       "        vertical-align: middle;\n",
       "    }\n",
       "\n",
       "    .dataframe tbody tr th {\n",
       "        vertical-align: top;\n",
       "    }\n",
       "\n",
       "    .dataframe thead th {\n",
       "        text-align: right;\n",
       "    }\n",
       "</style>\n",
       "<table border=\"1\" class=\"dataframe\">\n",
       "  <thead>\n",
       "    <tr style=\"text-align: right;\">\n",
       "      <th></th>\n",
       "      <th>Dependents</th>\n",
       "      <th>ApplicantIncome</th>\n",
       "      <th>LoanAmount</th>\n",
       "      <th>Loan_Amount_Term</th>\n",
       "      <th>Credit_History</th>\n",
       "      <th>Gender_Male</th>\n",
       "      <th>Gender_nan</th>\n",
       "      <th>Married_Yes</th>\n",
       "      <th>Married_nan</th>\n",
       "      <th>Self_Employed_Yes</th>\n",
       "      <th>Self_Employed_nan</th>\n",
       "      <th>Education_Not Graduate</th>\n",
       "      <th>Property_Area_Semiurban</th>\n",
       "      <th>Property_Area_Urban</th>\n",
       "      <th>Loan_Status_Y</th>\n",
       "      <th>TotalIncome</th>\n",
       "      <th>cluster</th>\n",
       "    </tr>\n",
       "  </thead>\n",
       "  <tbody>\n",
       "    <tr>\n",
       "      <th>0</th>\n",
       "      <td>0.000000</td>\n",
       "      <td>1.084523</td>\n",
       "      <td>1.058140</td>\n",
       "      <td>0.75</td>\n",
       "      <td>1</td>\n",
       "      <td>1</td>\n",
       "      <td>0</td>\n",
       "      <td>0</td>\n",
       "      <td>0</td>\n",
       "      <td>0</td>\n",
       "      <td>0</td>\n",
       "      <td>0</td>\n",
       "      <td>0</td>\n",
       "      <td>1</td>\n",
       "      <td>1</td>\n",
       "      <td>0.841086</td>\n",
       "      <td>0</td>\n",
       "    </tr>\n",
       "    <tr>\n",
       "      <th>1</th>\n",
       "      <td>0.333333</td>\n",
       "      <td>0.925883</td>\n",
       "      <td>1.047319</td>\n",
       "      <td>0.75</td>\n",
       "      <td>1</td>\n",
       "      <td>1</td>\n",
       "      <td>0</td>\n",
       "      <td>1</td>\n",
       "      <td>0</td>\n",
       "      <td>0</td>\n",
       "      <td>0</td>\n",
       "      <td>0</td>\n",
       "      <td>0</td>\n",
       "      <td>0</td>\n",
       "      <td>0</td>\n",
       "      <td>0.871711</td>\n",
       "      <td>3</td>\n",
       "    </tr>\n",
       "    <tr>\n",
       "      <th>2</th>\n",
       "      <td>0.000000</td>\n",
       "      <td>0.683858</td>\n",
       "      <td>0.635920</td>\n",
       "      <td>0.75</td>\n",
       "      <td>1</td>\n",
       "      <td>1</td>\n",
       "      <td>0</td>\n",
       "      <td>1</td>\n",
       "      <td>0</td>\n",
       "      <td>1</td>\n",
       "      <td>0</td>\n",
       "      <td>0</td>\n",
       "      <td>0</td>\n",
       "      <td>1</td>\n",
       "      <td>1</td>\n",
       "      <td>0.385189</td>\n",
       "      <td>0</td>\n",
       "    </tr>\n",
       "    <tr>\n",
       "      <th>3</th>\n",
       "      <td>0.000000</td>\n",
       "      <td>0.608992</td>\n",
       "      <td>1.002824</td>\n",
       "      <td>0.75</td>\n",
       "      <td>1</td>\n",
       "      <td>1</td>\n",
       "      <td>0</td>\n",
       "      <td>1</td>\n",
       "      <td>0</td>\n",
       "      <td>0</td>\n",
       "      <td>0</td>\n",
       "      <td>1</td>\n",
       "      <td>0</td>\n",
       "      <td>1</td>\n",
       "      <td>1</td>\n",
       "      <td>0.717012</td>\n",
       "      <td>0</td>\n",
       "    </tr>\n",
       "    <tr>\n",
       "      <th>4</th>\n",
       "      <td>0.000000</td>\n",
       "      <td>1.101869</td>\n",
       "      <td>1.115650</td>\n",
       "      <td>0.75</td>\n",
       "      <td>1</td>\n",
       "      <td>1</td>\n",
       "      <td>0</td>\n",
       "      <td>0</td>\n",
       "      <td>0</td>\n",
       "      <td>0</td>\n",
       "      <td>0</td>\n",
       "      <td>0</td>\n",
       "      <td>0</td>\n",
       "      <td>1</td>\n",
       "      <td>1</td>\n",
       "      <td>0.860305</td>\n",
       "      <td>0</td>\n",
       "    </tr>\n",
       "  </tbody>\n",
       "</table>\n",
       "</div>"
      ],
      "text/plain": [
       "   Dependents  ApplicantIncome  LoanAmount  Loan_Amount_Term  Credit_History  \\\n",
       "0    0.000000         1.084523    1.058140              0.75               1   \n",
       "1    0.333333         0.925883    1.047319              0.75               1   \n",
       "2    0.000000         0.683858    0.635920              0.75               1   \n",
       "3    0.000000         0.608992    1.002824              0.75               1   \n",
       "4    0.000000         1.101869    1.115650              0.75               1   \n",
       "\n",
       "   Gender_Male  Gender_nan  Married_Yes  Married_nan  Self_Employed_Yes  \\\n",
       "0            1           0            0            0                  0   \n",
       "1            1           0            1            0                  0   \n",
       "2            1           0            1            0                  1   \n",
       "3            1           0            1            0                  0   \n",
       "4            1           0            0            0                  0   \n",
       "\n",
       "   Self_Employed_nan  Education_Not Graduate  Property_Area_Semiurban  \\\n",
       "0                  0                       0                        0   \n",
       "1                  0                       0                        0   \n",
       "2                  0                       0                        0   \n",
       "3                  0                       1                        0   \n",
       "4                  0                       0                        0   \n",
       "\n",
       "   Property_Area_Urban  Loan_Status_Y  TotalIncome  cluster  \n",
       "0                    1              1     0.841086        0  \n",
       "1                    0              0     0.871711        3  \n",
       "2                    1              1     0.385189        0  \n",
       "3                    1              1     0.717012        0  \n",
       "4                    1              1     0.860305        0  "
      ]
     },
     "execution_count": 16,
     "metadata": {},
     "output_type": "execute_result"
    }
   ],
   "source": [
    "df.head()"
   ]
  },
  {
   "cell_type": "code",
   "execution_count": 17,
   "metadata": {},
   "outputs": [
    {
     "data": {
      "text/html": [
       "<div>\n",
       "<style scoped>\n",
       "    .dataframe tbody tr th:only-of-type {\n",
       "        vertical-align: middle;\n",
       "    }\n",
       "\n",
       "    .dataframe tbody tr th {\n",
       "        vertical-align: top;\n",
       "    }\n",
       "\n",
       "    .dataframe thead th {\n",
       "        text-align: right;\n",
       "    }\n",
       "</style>\n",
       "<table border=\"1\" class=\"dataframe\">\n",
       "  <thead>\n",
       "    <tr style=\"text-align: right;\">\n",
       "      <th></th>\n",
       "      <th>Dependents</th>\n",
       "      <th>ApplicantIncome</th>\n",
       "      <th>LoanAmount</th>\n",
       "      <th>Loan_Amount_Term</th>\n",
       "      <th>Credit_History</th>\n",
       "      <th>Gender_Male</th>\n",
       "      <th>Gender_nan</th>\n",
       "      <th>Married_Yes</th>\n",
       "      <th>Married_nan</th>\n",
       "      <th>Self_Employed_Yes</th>\n",
       "      <th>Self_Employed_nan</th>\n",
       "      <th>Education_Not Graduate</th>\n",
       "      <th>Property_Area_Semiurban</th>\n",
       "      <th>Property_Area_Urban</th>\n",
       "      <th>Loan_Status_Y</th>\n",
       "      <th>TotalIncome</th>\n",
       "      <th>cluster</th>\n",
       "    </tr>\n",
       "  </thead>\n",
       "  <tbody>\n",
       "    <tr>\n",
       "      <th>609</th>\n",
       "      <td>0.000000</td>\n",
       "      <td>0.666409</td>\n",
       "      <td>0.676143</td>\n",
       "      <td>0.750</td>\n",
       "      <td>1</td>\n",
       "      <td>0</td>\n",
       "      <td>0</td>\n",
       "      <td>0</td>\n",
       "      <td>0</td>\n",
       "      <td>0</td>\n",
       "      <td>0</td>\n",
       "      <td>0</td>\n",
       "      <td>0</td>\n",
       "      <td>0</td>\n",
       "      <td>1</td>\n",
       "      <td>0.364708</td>\n",
       "      <td>2</td>\n",
       "    </tr>\n",
       "    <tr>\n",
       "      <th>610</th>\n",
       "      <td>1.000000</td>\n",
       "      <td>0.858916</td>\n",
       "      <td>0.395858</td>\n",
       "      <td>0.375</td>\n",
       "      <td>1</td>\n",
       "      <td>1</td>\n",
       "      <td>0</td>\n",
       "      <td>1</td>\n",
       "      <td>0</td>\n",
       "      <td>0</td>\n",
       "      <td>0</td>\n",
       "      <td>0</td>\n",
       "      <td>0</td>\n",
       "      <td>0</td>\n",
       "      <td>1</td>\n",
       "      <td>0.587496</td>\n",
       "      <td>1</td>\n",
       "    </tr>\n",
       "    <tr>\n",
       "      <th>611</th>\n",
       "      <td>0.333333</td>\n",
       "      <td>1.313719</td>\n",
       "      <td>1.566110</td>\n",
       "      <td>0.750</td>\n",
       "      <td>1</td>\n",
       "      <td>1</td>\n",
       "      <td>0</td>\n",
       "      <td>1</td>\n",
       "      <td>0</td>\n",
       "      <td>0</td>\n",
       "      <td>0</td>\n",
       "      <td>0</td>\n",
       "      <td>0</td>\n",
       "      <td>1</td>\n",
       "      <td>1</td>\n",
       "      <td>1.116075</td>\n",
       "      <td>0</td>\n",
       "    </tr>\n",
       "    <tr>\n",
       "      <th>612</th>\n",
       "      <td>0.666667</td>\n",
       "      <td>1.267616</td>\n",
       "      <td>1.325676</td>\n",
       "      <td>0.750</td>\n",
       "      <td>1</td>\n",
       "      <td>1</td>\n",
       "      <td>0</td>\n",
       "      <td>1</td>\n",
       "      <td>0</td>\n",
       "      <td>0</td>\n",
       "      <td>0</td>\n",
       "      <td>0</td>\n",
       "      <td>0</td>\n",
       "      <td>1</td>\n",
       "      <td>1</td>\n",
       "      <td>1.042256</td>\n",
       "      <td>0</td>\n",
       "    </tr>\n",
       "    <tr>\n",
       "      <th>613</th>\n",
       "      <td>0.000000</td>\n",
       "      <td>0.925883</td>\n",
       "      <td>1.074155</td>\n",
       "      <td>0.750</td>\n",
       "      <td>0</td>\n",
       "      <td>0</td>\n",
       "      <td>0</td>\n",
       "      <td>0</td>\n",
       "      <td>0</td>\n",
       "      <td>1</td>\n",
       "      <td>0</td>\n",
       "      <td>0</td>\n",
       "      <td>1</td>\n",
       "      <td>0</td>\n",
       "      <td>0</td>\n",
       "      <td>0.663523</td>\n",
       "      <td>2</td>\n",
       "    </tr>\n",
       "  </tbody>\n",
       "</table>\n",
       "</div>"
      ],
      "text/plain": [
       "     Dependents  ApplicantIncome  LoanAmount  Loan_Amount_Term  \\\n",
       "609    0.000000         0.666409    0.676143             0.750   \n",
       "610    1.000000         0.858916    0.395858             0.375   \n",
       "611    0.333333         1.313719    1.566110             0.750   \n",
       "612    0.666667         1.267616    1.325676             0.750   \n",
       "613    0.000000         0.925883    1.074155             0.750   \n",
       "\n",
       "     Credit_History  Gender_Male  Gender_nan  Married_Yes  Married_nan  \\\n",
       "609               1            0           0            0            0   \n",
       "610               1            1           0            1            0   \n",
       "611               1            1           0            1            0   \n",
       "612               1            1           0            1            0   \n",
       "613               0            0           0            0            0   \n",
       "\n",
       "     Self_Employed_Yes  Self_Employed_nan  Education_Not Graduate  \\\n",
       "609                  0                  0                       0   \n",
       "610                  0                  0                       0   \n",
       "611                  0                  0                       0   \n",
       "612                  0                  0                       0   \n",
       "613                  1                  0                       0   \n",
       "\n",
       "     Property_Area_Semiurban  Property_Area_Urban  Loan_Status_Y  TotalIncome  \\\n",
       "609                        0                    0              1     0.364708   \n",
       "610                        0                    0              1     0.587496   \n",
       "611                        0                    1              1     1.116075   \n",
       "612                        0                    1              1     1.042256   \n",
       "613                        1                    0              0     0.663523   \n",
       "\n",
       "     cluster  \n",
       "609        2  \n",
       "610        1  \n",
       "611        0  \n",
       "612        0  \n",
       "613        2  "
      ]
     },
     "execution_count": 17,
     "metadata": {},
     "output_type": "execute_result"
    }
   ],
   "source": [
    "df.tail()"
   ]
  },
  {
   "cell_type": "markdown",
   "metadata": {},
   "source": [
    "#### Compute the mean value of each attribute for each cluster"
   ]
  },
  {
   "cell_type": "code",
   "execution_count": 18,
   "metadata": {
    "scrolled": true
   },
   "outputs": [
    {
     "data": {
      "text/html": [
       "<div>\n",
       "<style scoped>\n",
       "    .dataframe tbody tr th:only-of-type {\n",
       "        vertical-align: middle;\n",
       "    }\n",
       "\n",
       "    .dataframe tbody tr th {\n",
       "        vertical-align: top;\n",
       "    }\n",
       "\n",
       "    .dataframe thead th {\n",
       "        text-align: right;\n",
       "    }\n",
       "</style>\n",
       "<table border=\"1\" class=\"dataframe\">\n",
       "  <thead>\n",
       "    <tr style=\"text-align: right;\">\n",
       "      <th></th>\n",
       "      <th>Dependents</th>\n",
       "      <th>ApplicantIncome</th>\n",
       "      <th>LoanAmount</th>\n",
       "      <th>Loan_Amount_Term</th>\n",
       "      <th>Credit_History</th>\n",
       "      <th>Gender_Male</th>\n",
       "      <th>Gender_nan</th>\n",
       "      <th>Married_Yes</th>\n",
       "      <th>Married_nan</th>\n",
       "      <th>Self_Employed_Yes</th>\n",
       "      <th>Self_Employed_nan</th>\n",
       "      <th>Education_Not Graduate</th>\n",
       "      <th>Property_Area_Semiurban</th>\n",
       "      <th>Property_Area_Urban</th>\n",
       "      <th>Loan_Status_Y</th>\n",
       "      <th>TotalIncome</th>\n",
       "    </tr>\n",
       "    <tr>\n",
       "      <th>cluster</th>\n",
       "      <th></th>\n",
       "      <th></th>\n",
       "      <th></th>\n",
       "      <th></th>\n",
       "      <th></th>\n",
       "      <th></th>\n",
       "      <th></th>\n",
       "      <th></th>\n",
       "      <th></th>\n",
       "      <th></th>\n",
       "      <th></th>\n",
       "      <th></th>\n",
       "      <th></th>\n",
       "      <th></th>\n",
       "      <th></th>\n",
       "      <th></th>\n",
       "    </tr>\n",
       "  </thead>\n",
       "  <tbody>\n",
       "    <tr>\n",
       "      <th>0</th>\n",
       "      <td>0.260652</td>\n",
       "      <td>0.938096</td>\n",
       "      <td>1.042207</td>\n",
       "      <td>0.685714</td>\n",
       "      <td>0.992481</td>\n",
       "      <td>0.842105</td>\n",
       "      <td>0.015038</td>\n",
       "      <td>0.691729</td>\n",
       "      <td>0.007519</td>\n",
       "      <td>0.105263</td>\n",
       "      <td>0.060150</td>\n",
       "      <td>0.157895</td>\n",
       "      <td>0.000000</td>\n",
       "      <td>1.000000</td>\n",
       "      <td>1.000000</td>\n",
       "      <td>0.857415</td>\n",
       "    </tr>\n",
       "    <tr>\n",
       "      <th>1</th>\n",
       "      <td>0.322061</td>\n",
       "      <td>0.924632</td>\n",
       "      <td>1.128813</td>\n",
       "      <td>0.714251</td>\n",
       "      <td>0.985507</td>\n",
       "      <td>0.879227</td>\n",
       "      <td>0.019324</td>\n",
       "      <td>1.000000</td>\n",
       "      <td>0.000000</td>\n",
       "      <td>0.154589</td>\n",
       "      <td>0.043478</td>\n",
       "      <td>0.193237</td>\n",
       "      <td>0.652174</td>\n",
       "      <td>0.000000</td>\n",
       "      <td>0.932367</td>\n",
       "      <td>0.915538</td>\n",
       "    </tr>\n",
       "    <tr>\n",
       "      <th>2</th>\n",
       "      <td>0.090909</td>\n",
       "      <td>0.914837</td>\n",
       "      <td>1.024812</td>\n",
       "      <td>0.738826</td>\n",
       "      <td>0.901515</td>\n",
       "      <td>0.575758</td>\n",
       "      <td>0.015152</td>\n",
       "      <td>0.000000</td>\n",
       "      <td>0.015152</td>\n",
       "      <td>0.128788</td>\n",
       "      <td>0.060606</td>\n",
       "      <td>0.219697</td>\n",
       "      <td>0.621212</td>\n",
       "      <td>0.000000</td>\n",
       "      <td>0.727273</td>\n",
       "      <td>0.795394</td>\n",
       "    </tr>\n",
       "    <tr>\n",
       "      <th>3</th>\n",
       "      <td>0.274648</td>\n",
       "      <td>0.886346</td>\n",
       "      <td>1.079207</td>\n",
       "      <td>0.714261</td>\n",
       "      <td>0.492958</td>\n",
       "      <td>0.838028</td>\n",
       "      <td>0.035211</td>\n",
       "      <td>0.697183</td>\n",
       "      <td>0.000000</td>\n",
       "      <td>0.133803</td>\n",
       "      <td>0.049296</td>\n",
       "      <td>0.309859</td>\n",
       "      <td>0.112676</td>\n",
       "      <td>0.485915</td>\n",
       "      <td>0.000000</td>\n",
       "      <td>0.853131</td>\n",
       "    </tr>\n",
       "  </tbody>\n",
       "</table>\n",
       "</div>"
      ],
      "text/plain": [
       "         Dependents  ApplicantIncome  LoanAmount  Loan_Amount_Term  \\\n",
       "cluster                                                              \n",
       "0          0.260652         0.938096    1.042207          0.685714   \n",
       "1          0.322061         0.924632    1.128813          0.714251   \n",
       "2          0.090909         0.914837    1.024812          0.738826   \n",
       "3          0.274648         0.886346    1.079207          0.714261   \n",
       "\n",
       "         Credit_History  Gender_Male  Gender_nan  Married_Yes  Married_nan  \\\n",
       "cluster                                                                      \n",
       "0              0.992481     0.842105    0.015038     0.691729     0.007519   \n",
       "1              0.985507     0.879227    0.019324     1.000000     0.000000   \n",
       "2              0.901515     0.575758    0.015152     0.000000     0.015152   \n",
       "3              0.492958     0.838028    0.035211     0.697183     0.000000   \n",
       "\n",
       "         Self_Employed_Yes  Self_Employed_nan  Education_Not Graduate  \\\n",
       "cluster                                                                 \n",
       "0                 0.105263           0.060150                0.157895   \n",
       "1                 0.154589           0.043478                0.193237   \n",
       "2                 0.128788           0.060606                0.219697   \n",
       "3                 0.133803           0.049296                0.309859   \n",
       "\n",
       "         Property_Area_Semiurban  Property_Area_Urban  Loan_Status_Y  \\\n",
       "cluster                                                                \n",
       "0                       0.000000             1.000000       1.000000   \n",
       "1                       0.652174             0.000000       0.932367   \n",
       "2                       0.621212             0.000000       0.727273   \n",
       "3                       0.112676             0.485915       0.000000   \n",
       "\n",
       "         TotalIncome  \n",
       "cluster               \n",
       "0           0.857415  \n",
       "1           0.915538  \n",
       "2           0.795394  \n",
       "3           0.853131  "
      ]
     },
     "execution_count": 18,
     "metadata": {},
     "output_type": "execute_result"
    }
   ],
   "source": [
    "df.groupby('cluster').mean()"
   ]
  },
  {
   "cell_type": "code",
   "execution_count": 19,
   "metadata": {},
   "outputs": [],
   "source": [
    "### Task 2"
   ]
  },
  {
   "cell_type": "markdown",
   "metadata": {},
   "source": [
    "#### Conclusion\n",
    "\n",
    "By looking at the table above we can argue that:\n",
    "* LoanAmount is the highest in Cluster 3, and the lowest in Cluster 2.\n",
    "* The number of dependents in Cluster 2 is drastically lower than what is seen in the other Clusters.\n",
    "* The Credit_History in Cluster 1 is significantly lower than is what is seen in the other Clusters.\n",
    "* Cluster 2 seems to have a much lower percentage of male participants than the other Clusters. The ratio of male participants is more consistent with the other Clusters.\n",
    "* The ratio of maried participants varies greatly among the participants, there is approcimately a 20% gap between the different Clusters.\n",
    "* The percentage of participants that are not college graudates is higher in Cluster 2, as opposed to the other Clusters.\n",
    "* There are two null values in the Property_Area_Urban column, this may indicate that there are no urban residents included in the Clusters 2 and 3. All participants in Cluster 0 seem to live in urban areas.\n",
    "\n",
    "_Note that this conclusion is true for this run of k-Means. If the code is executed again, k-Means may produce either different clusters or the same clusters but in a different order._"
   ]
  },
  {
   "cell_type": "code",
   "execution_count": 20,
   "metadata": {},
   "outputs": [],
   "source": [
    "#### Task 3"
   ]
  },
  {
   "cell_type": "code",
   "execution_count": 21,
   "metadata": {},
   "outputs": [],
   "source": [
    "import numpy as np  \n",
    "import pandas as pd\n",
    "from sklearn.datasets import load_iris\n",
    "from sklearn.datasets import load_files\n",
    "from sklearn.cluster import KMeans\n",
    "import matplotlib.pyplot as plt"
   ]
  },
  {
   "cell_type": "code",
   "execution_count": 22,
   "metadata": {},
   "outputs": [],
   "source": [
    "sse = {}\n",
    "for k in range(1, 4):\n",
    "    kmeans = KMeans(n_clusters=k, max_iter=1000).fit(data)\n",
    "    sse[k] = kmeans.inertia_ # Inertia: Sum of distances of samples to their closest cluster center"
   ]
  },
  {
   "cell_type": "code",
   "execution_count": 23,
   "metadata": {},
   "outputs": [
    {
     "data": {
      "image/png": "[encoded data removed]",
      "text/plain": [
       "<Figure size 432x288 with 1 Axes>"
      ]
     },
     "metadata": {
      "needs_background": "light"
     },
     "output_type": "display_data"
    }
   ],
   "source": [
    "plt.figure()\n",
    "plt.plot(list(sse.keys()), list(sse.values()))\n",
    "plt.xlabel(\"Number of clusters\")\n",
    "plt.ylabel(\"SSE\")\n",
    "plt.show()"
   ]
  },
  {
   "cell_type": "code",
   "execution_count": 24,
   "metadata": {},
   "outputs": [],
   "source": [
    "### Task 4\n",
    "# Another clustering algorithm, a Silhouette Coefficient Method."
   ]
  },
  {
   "cell_type": "code",
   "execution_count": 25,
   "metadata": {},
   "outputs": [],
   "source": [
    "from sklearn.metrics import silhouette_score\n",
    "from sklearn.datasets import load_iris\n",
    "from sklearn.cluster import KMeans"
   ]
  },
  {
   "cell_type": "code",
   "execution_count": 26,
   "metadata": {},
   "outputs": [],
   "source": [
    "#df = pd.DataFrame(data, columns=feature_names)\n",
    "#df['target'] = data.target"
   ]
  },
  {
   "cell_type": "code",
   "execution_count": 27,
   "metadata": {},
   "outputs": [],
   "source": [
    "X = data\n",
    "y = data"
   ]
  },
  {
   "cell_type": "code",
   "execution_count": 28,
   "metadata": {},
   "outputs": [],
   "source": [
    "k_mean_values = {}"
   ]
  },
  {
   "cell_type": "code",
   "execution_count": 29,
   "metadata": {},
   "outputs": [
    {
     "name": "stdout",
     "output_type": "stream",
     "text": [
      "For n_clusters=2, The Silhouette Coefficient is 0.18654028464861305\n",
      "For n_clusters=3, The Silhouette Coefficient is 0.19154952618217486\n",
      "For n_clusters=4, The Silhouette Coefficient is 0.1905304548646992\n",
      "For n_clusters=5, The Silhouette Coefficient is 0.19617379665997825\n",
      "For n_clusters=6, The Silhouette Coefficient is 0.19453079918951718\n",
      "For n_clusters=7, The Silhouette Coefficient is 0.2104909665845032\n",
      "For n_clusters=8, The Silhouette Coefficient is 0.21253306002331984\n",
      "For n_clusters=9, The Silhouette Coefficient is 0.21943820131328817\n",
      "For n_clusters=10, The Silhouette Coefficient is 0.23472650839462222\n"
     ]
    }
   ],
   "source": [
    "for n_cluster in range(2, 11):\n",
    "    kmeans = KMeans(n_clusters=n_cluster).fit(X)\n",
    "    label = kmeans.labels_\n",
    "    sil_coeff = silhouette_score(X, label, metric='euclidean')\n",
    "    print(\"For n_clusters={}, The Silhouette Coefficient is {}\".format(n_cluster, sil_coeff))\n",
    "    k_mean_values[n_cluster] = sil_coeff"
   ]
  },
  {
   "cell_type": "code",
   "execution_count": 30,
   "metadata": {},
   "outputs": [
    {
     "data": {
      "image/png": "[encoded data removed]",
      "text/plain": [
       "<Figure size 432x288 with 1 Axes>"
      ]
     },
     "metadata": {
      "needs_background": "light"
     },
     "output_type": "display_data"
    }
   ],
   "source": [
    "plt.figure()\n",
    "plt.plot(list(k_mean_values.keys()), list(k_mean_values.values()))\n",
    "plt.xlabel(\"Number of clusters\")\n",
    "plt.ylabel(\"SSE\")\n",
    "plt.show()"
   ]
  },
  {
   "cell_type": "code",
   "execution_count": 31,
   "metadata": {},
   "outputs": [],
   "source": [
    "# Testing out with the Hierarchical Clustering"
   ]
  },
  {
   "cell_type": "code",
   "execution_count": 32,
   "metadata": {},
   "outputs": [
    {
     "name": "stdout",
     "output_type": "stream",
     "text": [
      "[0 0 0 0 0 0 0 1 0 1 0 0 0 1 0 0 0 1 0 0 1 0 1 1 1 0 0 0 0 0 0 1 1 0 1 0 1\n",
      " 0 0 0 1 0 0 0 0 0 0 0 1 0 0 0 1 1 1 0 0 0 0 0 0 0 1 1 1 1 1 0 0 1 0 0 0 1\n",
      " 0 1 1 1 1 0 0 0 1 1 0 0 0 0 0 0 0 0 0 0 0 0 0 0 0 0 0 0 0 0 0 0 0 0 1 0 0\n",
      " 0 1 0 0 0 0 0 0 0 0 0 1 0 0 0 0 0 1 0 0 0 0 0 0 1 1 0 1 0 0 0 0 0 0 0 1 0\n",
      " 1 0 1 0 1 0 0 1 0 0 0 0 0 1 1 0 0 0 1 0 1 0 0 0 0 0 0 0 0 1 0 1 1 1 0 1 0\n",
      " 0 1 0 0 0 0 1 1 0 0 1 0 0 0 1 0 1 1 0 0 0 0 0 0 1 1 1 0 0 0 0 0 0 1 0 1 0\n",
      " 0 0 0 0 0 0 0 0 0 0 0 0 0 0 0 0 0 0 0 1 0 0 0 1 0 0 0 0 1 1 0 0 1 0 1 1 0\n",
      " 1 0 0 1 0 0 0 0 0 1 0 0 0 0 0 0 0 0 0 0 0 1 0 0 0 0 0 1 0 0 0 0 1 0 1 0 0\n",
      " 0 1 1 1 1 0 0 0 0 0 0 1 1 0 0 0 0 0 1 0 0 0 0 1 0 0 0 0 0 1 1 0 1 0 0 0 0\n",
      " 0 0 0 0 0 1 0 0 1 0 0 0 0 1 0 0 0 0 1 0 1 0 0 0 1 1 0 1 0 0 0 0 0 1 1 0 0\n",
      " 0 0 0 1 0 0 0 0 1 0 0 0 0 0 1 0 0 1 0 0 0 0 0 0 0 0 1 0 0 1 1 0 0 0 1 0 0\n",
      " 0 1 1 0 0 1 0 1 0 1 1 0 0 0 1 0 1 0 0 0 0 0 0 0 1 0 0 0 0 0 0 1 0 0 0 0 0\n",
      " 0 0 0 0 1 0 1 0 1 1 0 0 0 1 0 1 0 0 0 0 1 0 1 0 0 1 0 1 0 0 0 0 0 1 0 1 0\n",
      " 0 0 0 0 0 1 1 0 1 0 0 0 0 1 0 0 0 0 1 0 0 0 0 0 0 0 1 0 0 0 0 0 1 1 0 0 1\n",
      " 1 0 0 0 0 0 1 0 0 0 0 0 0 0 1 1 0 0 0 0 0 0 0 1 0 0 0 0 0 0 1 0 1 0 0 1 1\n",
      " 0 0 0 0 0 0 0 0 0 1 0 0 1 1 1 0 1 0 1 1 0 1 0 0 0 0 1 0 0 1 0 0 0 0 1 0 1\n",
      " 0 0 0 0 0 1 0 0 1 0 0 0 0 1 0 0 0 0 0 0 0 1]\n"
     ]
    },
    {
     "data": {
      "text/plain": [
       "<matplotlib.collections.PathCollection at 0x2abfae9a1f0>"
      ]
     },
     "execution_count": 32,
     "metadata": {},
     "output_type": "execute_result"
    },
    {
     "data": {
      "image/png": "[encoded data removed]",
      "text/plain": [
       "<Figure size 432x288 with 1 Axes>"
      ]
     },
     "metadata": {
      "needs_background": "light"
     },
     "output_type": "display_data"
    }
   ],
   "source": [
    "from sklearn.cluster import AgglomerativeClustering\n",
    "from scipy.cluster.hierarchy import dendrogram, linkage\n",
    "\n",
    "cluster = AgglomerativeClustering(n_clusters=2, affinity='euclidean', linkage='ward')\n",
    "cluster.fit_predict(data)\n",
    "print(cluster.labels_)\n",
    "plt.scatter(X[:,0],X[:,1], c=cluster.labels_, cmap='rainbow')"
   ]
  },
  {
   "cell_type": "code",
   "execution_count": 33,
   "metadata": {},
   "outputs": [],
   "source": [
    "# Working with the Spectral Embedding"
   ]
  },
  {
   "cell_type": "code",
   "execution_count": 34,
   "metadata": {},
   "outputs": [
    {
     "name": "stdout",
     "output_type": "stream",
     "text": [
      "Automatically created module for IPython interactive environment\n"
     ]
    }
   ],
   "source": [
    "print(__doc__)\n",
    "from time import time\n",
    "\n",
    "import numpy as np\n",
    "from scipy import ndimage\n",
    "from matplotlib import pyplot as plt\n",
    "\n",
    "from sklearn import manifold, datasets"
   ]
  },
  {
   "cell_type": "code",
   "execution_count": 35,
   "metadata": {},
   "outputs": [],
   "source": [
    "X, y = datasets.load_digits(return_X_y=True)\n",
    "n_samples, n_features = X.shape"
   ]
  },
  {
   "cell_type": "code",
   "execution_count": 36,
   "metadata": {},
   "outputs": [],
   "source": [
    "np.random.seed(0)"
   ]
  },
  {
   "cell_type": "code",
   "execution_count": 37,
   "metadata": {},
   "outputs": [],
   "source": [
    "from sklearn.manifold import SpectralEmbedding\n",
    "\n",
    "se = SpectralEmbedding(n_components=2, n_neighbors=15)\n",
    "X_se = se.fit_transform(data)"
   ]
  },
  {
   "cell_type": "code",
   "execution_count": 38,
   "metadata": {},
   "outputs": [],
   "source": [
    "#----------------------------------------------------------------------\n",
    "# Visualize the clustering\n",
    "def plot_clustering(X_red, labels, title=None):\n",
    "    x_min, x_max = np.min(X_red, axis=0), np.max(X_red, axis=0)\n",
    "    X_red = (X_red - x_min) / (x_max - x_min)\n",
    "\n",
    "    plt.figure(figsize=(6, 4))\n",
    "    for i in range(X_red.shape[0]):\n",
    "        plt.text(X_red[i, 0], X_red[i, 1], str(y[i]),\n",
    "                 color=plt.cm.nipy_spectral(labels[i] / 10.),\n",
    "                 fontdict={'weight': 'bold', 'size': 9})\n",
    "\n",
    "    plt.xticks([])\n",
    "    plt.yticks([])\n",
    "    if title is not None:\n",
    "        plt.title(title, size=17)\n",
    "    plt.axis('off')\n",
    "    plt.tight_layout(rect=[0, 0.03, 1, 0.95])"
   ]
  },
  {
   "cell_type": "code",
   "execution_count": 39,
   "metadata": {},
   "outputs": [
    {
     "name": "stdout",
     "output_type": "stream",
     "text": [
      "Computing embedding\n",
      "Done.\n",
      "ward :\t0.01s\n",
      "average :\t0.01s\n",
      "complete :\t0.01s\n",
      "single :\t0.00s\n"
     ]
    },
    {
     "data": {
      "image/png": "[encoded data removed]",
      "text/plain": [
       "<Figure size 432x288 with 1 Axes>"
      ]
     },
     "metadata": {},
     "output_type": "display_data"
    },
    {
     "data": {
      "image/png": "[encoded data removed]",
      "text/plain": [
       "<Figure size 432x288 with 1 Axes>"
      ]
     },
     "metadata": {},
     "output_type": "display_data"
    },
    {
     "data": {
      "image/png": "[encoded data removed]",
      "text/plain": [
       "<Figure size 432x288 with 1 Axes>"
      ]
     },
     "metadata": {},
     "output_type": "display_data"
    },
    {
     "data": {
      "image/png": "[encoded data removed]",
      "text/plain": [
       "<Figure size 432x288 with 1 Axes>"
      ]
     },
     "metadata": {},
     "output_type": "display_data"
    }
   ],
   "source": [
    "#----------------------------------------------------------------------\n",
    "# 2D embedding of the digits dataset\n",
    "print(\"Computing embedding\")\n",
    "#X_red = manifold.SpectralEmbedding(n_components=2).fit_transform(X)\n",
    "X_red = X_se\n",
    "print(\"Done.\")\n",
    "\n",
    "from sklearn.cluster import AgglomerativeClustering\n",
    "\n",
    "for linkage in ('ward', 'average', 'complete', 'single'):\n",
    "    clustering = AgglomerativeClustering(linkage=linkage, n_clusters=10)\n",
    "    t0 = time()\n",
    "    clustering.fit(X_red)\n",
    "    print(\"%s :\\t%.2fs\" % (linkage, time() - t0))\n",
    "\n",
    "    plot_clustering(X_red, clustering.labels_, \"%s linkage\" % linkage)"
   ]
  },
  {
   "cell_type": "code",
   "execution_count": 40,
   "metadata": {},
   "outputs": [],
   "source": [
    "plt.show()"
   ]
  }
 ],
 "metadata": {
  "kernelspec": {
   "display_name": "Python 3",
   "language": "python",
   "name": "python3"
  },
  "language_info": {
   "codemirror_mode": {
    "name": "ipython",
    "version": 3
   },
   "file_extension": ".py",
   "mimetype": "text/x-python",
   "name": "python",
   "nbconvert_exporter": "python",
   "pygments_lexer": "ipython3",
   "version": "3.8.5"
  }
 },
 "nbformat": 4,
 "nbformat_minor": 2
}
