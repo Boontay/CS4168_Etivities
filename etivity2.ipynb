{
 "cells": [
  {
   "cell_type": "markdown",
   "metadata": {},
   "source": [
    "# Lab 2: Data Preparation"
   ]
  },
  {
   "cell_type": "markdown",
   "metadata": {},
   "source": [
    "In the exploration of the *bank* dataset, we discovered a few issues, which need to be resolved before the dataset is ready for machine learning (ML). This exercise is typically referred as either *data preparation*, or *data preprocessing*, or *data munging*, or *data wrangling*.\n",
    "\n",
    "Here are the problems, we are already aware of:\n",
    "\n",
    "- There are missing values in some columns. We can estimate these values depending on the number of missing values and the expected importance of the column.\n",
    "\n",
    "- We observed that `age` and `balance` seem to contain extreme values at either end. Although they might make intuitive sense, they should be treated appropriately."
   ]
  },
  {
   "cell_type": "markdown",
   "metadata": {},
   "source": [
    "## A. Import Python Modules and Dataset"
   ]
  },
  {
   "cell_type": "code",
   "execution_count": 130,
   "metadata": {
    "scrolled": true
   },
   "outputs": [
    {
     "data": {
      "text/plain": "       age           job  marital  education default  balance housing loan  \\\n1995  20.0       student   single        NaN      no     2785      no   no   \n1996  28.0        admin.   single  secondary      no      127      no   no   \n1997  81.0       retired  married    primary      no     1154      no   no   \n1998  46.0      services  married    primary      no     4343     yes   no   \n1999  40.0  entrepreneur  married  secondary      no     6403      no   no   \n\n        contact  day month  duration  campaign  pdays  previous poutcome  \\\n1995   cellular   16   sep       327         2     -1         0      NaN   \n1996   cellular   16   sep      1334         2     -1         0      NaN   \n1997  telephone   17   sep       231         1     -1         0      NaN   \n1998        NaN   20   sep       185         1     -1         0      NaN   \n1999   cellular   22   sep       208         2     -1         0      NaN   \n\n     subscribed  \n1995        yes  \n1996        yes  \n1997        yes  \n1998        yes  \n1999        yes  ",
      "text/html": "<div>\n<style scoped>\n    .dataframe tbody tr th:only-of-type {\n        vertical-align: middle;\n    }\n\n    .dataframe tbody tr th {\n        vertical-align: top;\n    }\n\n    .dataframe thead th {\n        text-align: right;\n    }\n</style>\n<table border=\"1\" class=\"dataframe\">\n  <thead>\n    <tr style=\"text-align: right;\">\n      <th></th>\n      <th>age</th>\n      <th>job</th>\n      <th>marital</th>\n      <th>education</th>\n      <th>default</th>\n      <th>balance</th>\n      <th>housing</th>\n      <th>loan</th>\n      <th>contact</th>\n      <th>day</th>\n      <th>month</th>\n      <th>duration</th>\n      <th>campaign</th>\n      <th>pdays</th>\n      <th>previous</th>\n      <th>poutcome</th>\n      <th>subscribed</th>\n    </tr>\n  </thead>\n  <tbody>\n    <tr>\n      <th>1995</th>\n      <td>20.0</td>\n      <td>student</td>\n      <td>single</td>\n      <td>NaN</td>\n      <td>no</td>\n      <td>2785</td>\n      <td>no</td>\n      <td>no</td>\n      <td>cellular</td>\n      <td>16</td>\n      <td>sep</td>\n      <td>327</td>\n      <td>2</td>\n      <td>-1</td>\n      <td>0</td>\n      <td>NaN</td>\n      <td>yes</td>\n    </tr>\n    <tr>\n      <th>1996</th>\n      <td>28.0</td>\n      <td>admin.</td>\n      <td>single</td>\n      <td>secondary</td>\n      <td>no</td>\n      <td>127</td>\n      <td>no</td>\n      <td>no</td>\n      <td>cellular</td>\n      <td>16</td>\n      <td>sep</td>\n      <td>1334</td>\n      <td>2</td>\n      <td>-1</td>\n      <td>0</td>\n      <td>NaN</td>\n      <td>yes</td>\n    </tr>\n    <tr>\n      <th>1997</th>\n      <td>81.0</td>\n      <td>retired</td>\n      <td>married</td>\n      <td>primary</td>\n      <td>no</td>\n      <td>1154</td>\n      <td>no</td>\n      <td>no</td>\n      <td>telephone</td>\n      <td>17</td>\n      <td>sep</td>\n      <td>231</td>\n      <td>1</td>\n      <td>-1</td>\n      <td>0</td>\n      <td>NaN</td>\n      <td>yes</td>\n    </tr>\n    <tr>\n      <th>1998</th>\n      <td>46.0</td>\n      <td>services</td>\n      <td>married</td>\n      <td>primary</td>\n      <td>no</td>\n      <td>4343</td>\n      <td>yes</td>\n      <td>no</td>\n      <td>NaN</td>\n      <td>20</td>\n      <td>sep</td>\n      <td>185</td>\n      <td>1</td>\n      <td>-1</td>\n      <td>0</td>\n      <td>NaN</td>\n      <td>yes</td>\n    </tr>\n    <tr>\n      <th>1999</th>\n      <td>40.0</td>\n      <td>entrepreneur</td>\n      <td>married</td>\n      <td>secondary</td>\n      <td>no</td>\n      <td>6403</td>\n      <td>no</td>\n      <td>no</td>\n      <td>cellular</td>\n      <td>22</td>\n      <td>sep</td>\n      <td>208</td>\n      <td>2</td>\n      <td>-1</td>\n      <td>0</td>\n      <td>NaN</td>\n      <td>yes</td>\n    </tr>\n  </tbody>\n</table>\n</div>"
     },
     "execution_count": 130,
     "metadata": {},
     "output_type": "execute_result"
    }
   ],
   "source": [
    "import pandas as pd\n",
    "import numpy as np\n",
    "from sklearn.preprocessing import RobustScaler\n",
    "import matplotlib.pyplot as plt\n",
    "%matplotlib inline\n",
    "\n",
    "df = pd.read_csv(\"./bank.csv\")\n",
    "df.tail()"
   ]
  },
  {
   "cell_type": "markdown",
   "metadata": {},
   "source": [
    "Check for missing values."
   ]
  },
  {
   "cell_type": "code",
   "execution_count": 131,
   "metadata": {},
   "outputs": [
    {
     "data": {
      "text/plain": "age            12\njob            10\nmarital         0\neducation     104\ndefault         0\nbalance         0\nhousing         0\nloan            0\ncontact       191\nday             0\nmonth           0\nduration        0\ncampaign        0\npdays           0\nprevious        0\npoutcome      454\nsubscribed      0\ndtype: int64"
     },
     "execution_count": 131,
     "metadata": {},
     "output_type": "execute_result"
    }
   ],
   "source": [
    "df.isna().sum()"
   ]
  },
  {
   "cell_type": "markdown",
   "metadata": {},
   "source": [
    "Before we start transforming the dataset let's make a copy of it."
   ]
  },
  {
   "cell_type": "code",
   "execution_count": 132,
   "metadata": {},
   "outputs": [],
   "source": [
    "df_original = df"
   ]
  },
  {
   "cell_type": "markdown",
   "metadata": {},
   "source": [
    "## B. Process and Encode the Categorical Features"
   ]
  },
  {
   "cell_type": "markdown",
   "metadata": {},
   "source": [
    "### Encode Ordinal Categorical Attributes"
   ]
  },
  {
   "cell_type": "markdown",
   "metadata": {},
   "source": [
    "For the categorical column, the column `housing` is categorical, which can be **ordinal**.\n",
    "\n",
    "The value for 'yes' can be assigned the value 1.\n",
    "\n",
    "The values for 'no' can be assigned the value 0."
   ]
  },
  {
   "cell_type": "code",
   "execution_count": 133,
   "metadata": {},
   "outputs": [
    {
     "data": {
      "text/plain": "       age           job  marital  education default  balance  housing loan  \\\n1995  20.0       student   single        NaN      no     2785        0   no   \n1996  28.0        admin.   single  secondary      no      127        0   no   \n1997  81.0       retired  married    primary      no     1154        0   no   \n1998  46.0      services  married    primary      no     4343        1   no   \n1999  40.0  entrepreneur  married  secondary      no     6403        0   no   \n\n        contact  day month  duration  campaign  pdays  previous poutcome  \\\n1995   cellular   16   sep       327         2     -1         0      NaN   \n1996   cellular   16   sep      1334         2     -1         0      NaN   \n1997  telephone   17   sep       231         1     -1         0      NaN   \n1998        NaN   20   sep       185         1     -1         0      NaN   \n1999   cellular   22   sep       208         2     -1         0      NaN   \n\n     subscribed  \n1995        yes  \n1996        yes  \n1997        yes  \n1998        yes  \n1999        yes  ",
      "text/html": "<div>\n<style scoped>\n    .dataframe tbody tr th:only-of-type {\n        vertical-align: middle;\n    }\n\n    .dataframe tbody tr th {\n        vertical-align: top;\n    }\n\n    .dataframe thead th {\n        text-align: right;\n    }\n</style>\n<table border=\"1\" class=\"dataframe\">\n  <thead>\n    <tr style=\"text-align: right;\">\n      <th></th>\n      <th>age</th>\n      <th>job</th>\n      <th>marital</th>\n      <th>education</th>\n      <th>default</th>\n      <th>balance</th>\n      <th>housing</th>\n      <th>loan</th>\n      <th>contact</th>\n      <th>day</th>\n      <th>month</th>\n      <th>duration</th>\n      <th>campaign</th>\n      <th>pdays</th>\n      <th>previous</th>\n      <th>poutcome</th>\n      <th>subscribed</th>\n    </tr>\n  </thead>\n  <tbody>\n    <tr>\n      <th>1995</th>\n      <td>20.0</td>\n      <td>student</td>\n      <td>single</td>\n      <td>NaN</td>\n      <td>no</td>\n      <td>2785</td>\n      <td>0</td>\n      <td>no</td>\n      <td>cellular</td>\n      <td>16</td>\n      <td>sep</td>\n      <td>327</td>\n      <td>2</td>\n      <td>-1</td>\n      <td>0</td>\n      <td>NaN</td>\n      <td>yes</td>\n    </tr>\n    <tr>\n      <th>1996</th>\n      <td>28.0</td>\n      <td>admin.</td>\n      <td>single</td>\n      <td>secondary</td>\n      <td>no</td>\n      <td>127</td>\n      <td>0</td>\n      <td>no</td>\n      <td>cellular</td>\n      <td>16</td>\n      <td>sep</td>\n      <td>1334</td>\n      <td>2</td>\n      <td>-1</td>\n      <td>0</td>\n      <td>NaN</td>\n      <td>yes</td>\n    </tr>\n    <tr>\n      <th>1997</th>\n      <td>81.0</td>\n      <td>retired</td>\n      <td>married</td>\n      <td>primary</td>\n      <td>no</td>\n      <td>1154</td>\n      <td>0</td>\n      <td>no</td>\n      <td>telephone</td>\n      <td>17</td>\n      <td>sep</td>\n      <td>231</td>\n      <td>1</td>\n      <td>-1</td>\n      <td>0</td>\n      <td>NaN</td>\n      <td>yes</td>\n    </tr>\n    <tr>\n      <th>1998</th>\n      <td>46.0</td>\n      <td>services</td>\n      <td>married</td>\n      <td>primary</td>\n      <td>no</td>\n      <td>4343</td>\n      <td>1</td>\n      <td>no</td>\n      <td>NaN</td>\n      <td>20</td>\n      <td>sep</td>\n      <td>185</td>\n      <td>1</td>\n      <td>-1</td>\n      <td>0</td>\n      <td>NaN</td>\n      <td>yes</td>\n    </tr>\n    <tr>\n      <th>1999</th>\n      <td>40.0</td>\n      <td>entrepreneur</td>\n      <td>married</td>\n      <td>secondary</td>\n      <td>no</td>\n      <td>6403</td>\n      <td>0</td>\n      <td>no</td>\n      <td>cellular</td>\n      <td>22</td>\n      <td>sep</td>\n      <td>208</td>\n      <td>2</td>\n      <td>-1</td>\n      <td>0</td>\n      <td>NaN</td>\n      <td>yes</td>\n    </tr>\n  </tbody>\n</table>\n</div>"
     },
     "execution_count": 133,
     "metadata": {},
     "output_type": "execute_result"
    }
   ],
   "source": [
    "# Create a mapper\n",
    "\n",
    "scale_mapper = {\n",
    "    \"no\": 0,\n",
    "    \"yes\": 1,\n",
    "}\n",
    "\n",
    "df['housing'] = df['housing'].replace(scale_mapper)\n",
    "\n",
    "df.tail()"
   ]
  },
  {
   "cell_type": "markdown",
   "metadata": {
    "pycharm": {
     "name": "#%% md\n"
    }
   },
   "source": [
    "### One-Hot Encode All Other Categorical Attributes"
   ]
  },
  {
   "cell_type": "code",
   "metadata": {
    "pycharm": {
     "name": "#%%\n"
    }
   },
   "source": [
    "# first one-hot encode the categorical columns with NaNs\n",
    "\n",
    "df = pd.get_dummies(df, columns=['contact', 'poutcome', 'education'],\n",
    "                        dummy_na=True,\n",
    "                        drop_first=True)\n",
    "df.tail()"
   ],
   "execution_count": 134,
   "outputs": [
    {
     "data": {
      "text/plain": "       age           job  marital default  balance  housing loan  day month  \\\n1995  20.0       student   single      no     2785        0   no   16   sep   \n1996  28.0        admin.   single      no      127        0   no   16   sep   \n1997  81.0       retired  married      no     1154        0   no   17   sep   \n1998  46.0      services  married      no     4343        1   no   20   sep   \n1999  40.0  entrepreneur  married      no     6403        0   no   22   sep   \n\n      duration  ...  previous  subscribed  contact_telephone contact_nan  \\\n1995       327  ...         0         yes                  0           0   \n1996      1334  ...         0         yes                  0           0   \n1997       231  ...         0         yes                  1           0   \n1998       185  ...         0         yes                  0           1   \n1999       208  ...         0         yes                  0           0   \n\n      poutcome_other  poutcome_success  poutcome_nan  education_secondary  \\\n1995               0                 0             1                    0   \n1996               0                 0             1                    1   \n1997               0                 0             1                    0   \n1998               0                 0             1                    0   \n1999               0                 0             1                    1   \n\n      education_tertiary  education_nan  \n1995                   0              1  \n1996                   0              0  \n1997                   0              0  \n1998                   0              0  \n1999                   0              0  \n\n[5 rows x 22 columns]",
      "text/html": "<div>\n<style scoped>\n    .dataframe tbody tr th:only-of-type {\n        vertical-align: middle;\n    }\n\n    .dataframe tbody tr th {\n        vertical-align: top;\n    }\n\n    .dataframe thead th {\n        text-align: right;\n    }\n</style>\n<table border=\"1\" class=\"dataframe\">\n  <thead>\n    <tr style=\"text-align: right;\">\n      <th></th>\n      <th>age</th>\n      <th>job</th>\n      <th>marital</th>\n      <th>default</th>\n      <th>balance</th>\n      <th>housing</th>\n      <th>loan</th>\n      <th>day</th>\n      <th>month</th>\n      <th>duration</th>\n      <th>...</th>\n      <th>previous</th>\n      <th>subscribed</th>\n      <th>contact_telephone</th>\n      <th>contact_nan</th>\n      <th>poutcome_other</th>\n      <th>poutcome_success</th>\n      <th>poutcome_nan</th>\n      <th>education_secondary</th>\n      <th>education_tertiary</th>\n      <th>education_nan</th>\n    </tr>\n  </thead>\n  <tbody>\n    <tr>\n      <th>1995</th>\n      <td>20.0</td>\n      <td>student</td>\n      <td>single</td>\n      <td>no</td>\n      <td>2785</td>\n      <td>0</td>\n      <td>no</td>\n      <td>16</td>\n      <td>sep</td>\n      <td>327</td>\n      <td>...</td>\n      <td>0</td>\n      <td>yes</td>\n      <td>0</td>\n      <td>0</td>\n      <td>0</td>\n      <td>0</td>\n      <td>1</td>\n      <td>0</td>\n      <td>0</td>\n      <td>1</td>\n    </tr>\n    <tr>\n      <th>1996</th>\n      <td>28.0</td>\n      <td>admin.</td>\n      <td>single</td>\n      <td>no</td>\n      <td>127</td>\n      <td>0</td>\n      <td>no</td>\n      <td>16</td>\n      <td>sep</td>\n      <td>1334</td>\n      <td>...</td>\n      <td>0</td>\n      <td>yes</td>\n      <td>0</td>\n      <td>0</td>\n      <td>0</td>\n      <td>0</td>\n      <td>1</td>\n      <td>1</td>\n      <td>0</td>\n      <td>0</td>\n    </tr>\n    <tr>\n      <th>1997</th>\n      <td>81.0</td>\n      <td>retired</td>\n      <td>married</td>\n      <td>no</td>\n      <td>1154</td>\n      <td>0</td>\n      <td>no</td>\n      <td>17</td>\n      <td>sep</td>\n      <td>231</td>\n      <td>...</td>\n      <td>0</td>\n      <td>yes</td>\n      <td>1</td>\n      <td>0</td>\n      <td>0</td>\n      <td>0</td>\n      <td>1</td>\n      <td>0</td>\n      <td>0</td>\n      <td>0</td>\n    </tr>\n    <tr>\n      <th>1998</th>\n      <td>46.0</td>\n      <td>services</td>\n      <td>married</td>\n      <td>no</td>\n      <td>4343</td>\n      <td>1</td>\n      <td>no</td>\n      <td>20</td>\n      <td>sep</td>\n      <td>185</td>\n      <td>...</td>\n      <td>0</td>\n      <td>yes</td>\n      <td>0</td>\n      <td>1</td>\n      <td>0</td>\n      <td>0</td>\n      <td>1</td>\n      <td>0</td>\n      <td>0</td>\n      <td>0</td>\n    </tr>\n    <tr>\n      <th>1999</th>\n      <td>40.0</td>\n      <td>entrepreneur</td>\n      <td>married</td>\n      <td>no</td>\n      <td>6403</td>\n      <td>0</td>\n      <td>no</td>\n      <td>22</td>\n      <td>sep</td>\n      <td>208</td>\n      <td>...</td>\n      <td>0</td>\n      <td>yes</td>\n      <td>0</td>\n      <td>0</td>\n      <td>0</td>\n      <td>0</td>\n      <td>1</td>\n      <td>1</td>\n      <td>0</td>\n      <td>0</td>\n    </tr>\n  </tbody>\n</table>\n<p>5 rows × 22 columns</p>\n</div>"
     },
     "execution_count": 134,
     "metadata": {},
     "output_type": "execute_result"
    }
   ]
  },
  {
   "cell_type": "code",
   "execution_count": 135,
   "metadata": {},
   "outputs": [
    {
     "data": {
      "text/plain": "    age  balance  housing  day  duration  campaign  pdays  previous  \\\n0  32.0      392        1    1       957         2    131         2   \n1  39.0      688        1    1       233         2    133         1   \n2  59.0     1035        1    1       126         2    239         1   \n3  47.0      398        1    1       274         1    238         2   \n4  54.0     1004        1    1       479         1    307         1   \n\n   contact_telephone  contact_nan  ...  month_feb  month_jan  month_jul  \\\n0                  0            0  ...          0          0          0   \n1                  0            0  ...          0          0          0   \n2                  0            0  ...          0          0          0   \n3                  0            0  ...          0          0          0   \n4                  0            0  ...          0          0          0   \n\n   month_jun  month_mar  month_may  month_nov  month_oct  month_sep  \\\n0          0          0          0          0          0          0   \n1          0          0          0          0          0          0   \n2          0          0          0          0          0          0   \n3          0          0          0          0          0          0   \n4          0          0          0          0          0          0   \n\n   subscribed_yes  \n0               0  \n1               0  \n2               0  \n3               0  \n4               0  \n\n[5 rows x 42 columns]",
      "text/html": "<div>\n<style scoped>\n    .dataframe tbody tr th:only-of-type {\n        vertical-align: middle;\n    }\n\n    .dataframe tbody tr th {\n        vertical-align: top;\n    }\n\n    .dataframe thead th {\n        text-align: right;\n    }\n</style>\n<table border=\"1\" class=\"dataframe\">\n  <thead>\n    <tr style=\"text-align: right;\">\n      <th></th>\n      <th>age</th>\n      <th>balance</th>\n      <th>housing</th>\n      <th>day</th>\n      <th>duration</th>\n      <th>campaign</th>\n      <th>pdays</th>\n      <th>previous</th>\n      <th>contact_telephone</th>\n      <th>contact_nan</th>\n      <th>...</th>\n      <th>month_feb</th>\n      <th>month_jan</th>\n      <th>month_jul</th>\n      <th>month_jun</th>\n      <th>month_mar</th>\n      <th>month_may</th>\n      <th>month_nov</th>\n      <th>month_oct</th>\n      <th>month_sep</th>\n      <th>subscribed_yes</th>\n    </tr>\n  </thead>\n  <tbody>\n    <tr>\n      <th>0</th>\n      <td>32.0</td>\n      <td>392</td>\n      <td>1</td>\n      <td>1</td>\n      <td>957</td>\n      <td>2</td>\n      <td>131</td>\n      <td>2</td>\n      <td>0</td>\n      <td>0</td>\n      <td>...</td>\n      <td>0</td>\n      <td>0</td>\n      <td>0</td>\n      <td>0</td>\n      <td>0</td>\n      <td>0</td>\n      <td>0</td>\n      <td>0</td>\n      <td>0</td>\n      <td>0</td>\n    </tr>\n    <tr>\n      <th>1</th>\n      <td>39.0</td>\n      <td>688</td>\n      <td>1</td>\n      <td>1</td>\n      <td>233</td>\n      <td>2</td>\n      <td>133</td>\n      <td>1</td>\n      <td>0</td>\n      <td>0</td>\n      <td>...</td>\n      <td>0</td>\n      <td>0</td>\n      <td>0</td>\n      <td>0</td>\n      <td>0</td>\n      <td>0</td>\n      <td>0</td>\n      <td>0</td>\n      <td>0</td>\n      <td>0</td>\n    </tr>\n    <tr>\n      <th>2</th>\n      <td>59.0</td>\n      <td>1035</td>\n      <td>1</td>\n      <td>1</td>\n      <td>126</td>\n      <td>2</td>\n      <td>239</td>\n      <td>1</td>\n      <td>0</td>\n      <td>0</td>\n      <td>...</td>\n      <td>0</td>\n      <td>0</td>\n      <td>0</td>\n      <td>0</td>\n      <td>0</td>\n      <td>0</td>\n      <td>0</td>\n      <td>0</td>\n      <td>0</td>\n      <td>0</td>\n    </tr>\n    <tr>\n      <th>3</th>\n      <td>47.0</td>\n      <td>398</td>\n      <td>1</td>\n      <td>1</td>\n      <td>274</td>\n      <td>1</td>\n      <td>238</td>\n      <td>2</td>\n      <td>0</td>\n      <td>0</td>\n      <td>...</td>\n      <td>0</td>\n      <td>0</td>\n      <td>0</td>\n      <td>0</td>\n      <td>0</td>\n      <td>0</td>\n      <td>0</td>\n      <td>0</td>\n      <td>0</td>\n      <td>0</td>\n    </tr>\n    <tr>\n      <th>4</th>\n      <td>54.0</td>\n      <td>1004</td>\n      <td>1</td>\n      <td>1</td>\n      <td>479</td>\n      <td>1</td>\n      <td>307</td>\n      <td>1</td>\n      <td>0</td>\n      <td>0</td>\n      <td>...</td>\n      <td>0</td>\n      <td>0</td>\n      <td>0</td>\n      <td>0</td>\n      <td>0</td>\n      <td>0</td>\n      <td>0</td>\n      <td>0</td>\n      <td>0</td>\n      <td>0</td>\n    </tr>\n  </tbody>\n</table>\n<p>5 rows × 42 columns</p>\n</div>"
     },
     "execution_count": 135,
     "metadata": {},
     "output_type": "execute_result"
    }
   ],
   "source": [
    "# now one-hot encode all other categorical columns\n",
    "\n",
    "df = pd.get_dummies(df, drop_first=True)\n",
    "df.head()"
   ]
  },
  {
   "cell_type": "markdown",
   "metadata": {
    "pycharm": {
     "name": "#%% md\n"
    }
   },
   "source": [
    "## C. Treatment of Missing Values in Numerical Columns"
   ]
  },
  {
   "cell_type": "markdown",
   "metadata": {},
   "source": [
    "### Check for Missing Values\n",
    "\n",
    "It is often useful to impute missing values as many ML algorithms do not work with missing data and even if they do, imputing these values often helps to build a more accurate predictive model."
   ]
  },
  {
   "cell_type": "code",
   "metadata": {
    "pycharm": {
     "name": "#%%\n"
    }
   },
   "source": [
    "# Find the number of nulls/NaNs in the dataset\n",
    "\n",
    "df.isna().sum()"
   ],
   "execution_count": 136,
   "outputs": [
    {
     "data": {
      "text/plain": "age                    12\nbalance                 0\nhousing                 0\nday                     0\nduration                0\ncampaign                0\npdays                   0\nprevious                0\ncontact_telephone       0\ncontact_nan             0\npoutcome_other          0\npoutcome_success        0\npoutcome_nan            0\neducation_secondary     0\neducation_tertiary      0\neducation_nan           0\njob_blue-collar         0\njob_entrepreneur        0\njob_housemaid           0\njob_management          0\njob_retired             0\njob_self-employed       0\njob_services            0\njob_student             0\njob_technician          0\njob_unemployed          0\nmarital_married         0\nmarital_single          0\ndefault_yes             0\nloan_yes                0\nmonth_aug               0\nmonth_dec               0\nmonth_feb               0\nmonth_jan               0\nmonth_jul               0\nmonth_jun               0\nmonth_mar               0\nmonth_may               0\nmonth_nov               0\nmonth_oct               0\nmonth_sep               0\nsubscribed_yes          0\ndtype: int64"
     },
     "execution_count": 136,
     "metadata": {},
     "output_type": "execute_result"
    }
   ]
  },
  {
   "cell_type": "markdown",
   "metadata": {
    "pycharm": {
     "name": "#%% md\n"
    }
   },
   "source": [
    "Note that missing values may not always be NaNs. For instance, if `Loan_Amount_Term` had zeros, would they make sense or should they be considered missing? That is, we need to understand the dataset well in order to identify which values are missing.\n",
    "\n",
    "Note also that no column has more than 25% missing values. Thus, we do not need to consider dropping whole columns."
   ]
  },
  {
   "cell_type": "markdown",
   "metadata": {},
   "source": [
    "### Impute Missing Values"
   ]
  },
  {
   "cell_type": "markdown",
   "metadata": {},
   "source": [
    "Note that missing values may not always be NaNs. For instance, if `age` had zeros, would they make sense or should they be considered missing? That is, we need to understand the dataset well in order to identify which values are missing.\n",
    "\n",
    "Note also that no column has more than 25% missing values. Thus, we do not need to consider dropping whole columns."
   ]
  },
  {
   "cell_type": "markdown",
   "metadata": {},
   "source": [
    "```pyton\n",
    "df['age'].fillna(df['age'].median(), inplace=True)\n",
    "```"
   ]
  },
  {
   "cell_type": "markdown",
   "metadata": {},
   "source": [
    "Imputing missing values with the mean (alternatively, the media, the most frequent, or a constant) may introduce bias in the dataset. A better method is to build an ML model (typically, kNN) to predict `age` on the basis of other columns.\n",
    "\n",
    "Since, the purpose now is to practice data munging prior applying ML algorithms, we can take an approach, which lies somewhere in between these 2 extremes. We may hypothesise that attributes `marital_single` and `loan_yes` combined can give a good estimate of `age`.\n",
    "\n",
    "First, let us look at the following boxplots to see if a trend exists:"
   ]
  },
  {
   "cell_type": "code",
   "metadata": {
    "pycharm": {
     "name": "#%%\n"
    }
   },
   "source": [
    "df.boxplot(column='age', by=['marital_single','loan_yes'], rot=45)\n",
    "plt.title(\"\")\n",
    "plt.show()"
   ],
   "execution_count": 137,
   "outputs": [
    {
     "data": {
      "text/plain": "<Figure size 432x288 with 1 Axes>",
      "image/png": "[encoded data removed]"
     },
     "metadata": {
      "needs_background": "light"
     },
     "output_type": "display_data"
    }
   ]
  },
  {
   "cell_type": "markdown",
   "metadata": {
    "pycharm": {
     "name": "#%% md\n"
    }
   },
   "source": [
    "We can see some variation in the median of `age` for each group and these medians can be used for imputing the missing values in each group. Next, we create a pivot table, which contains the median values for all four groups."
   ]
  },
  {
   "cell_type": "code",
   "metadata": {
    "pycharm": {
     "name": "#%%\n"
    }
   },
   "source": [
    "ptable = df.pivot_table(values='age',\n",
    "                        index='marital_single',\n",
    "                        columns='loan_yes',\n",
    "                        aggfunc=np.median)\n",
    "ptable"
   ],
   "execution_count": 138,
   "outputs": [
    {
     "data": {
      "text/plain": "loan_yes           0     1\nmarital_single            \n0               45.0  43.0\n1               31.0  34.0",
      "text/html": "<div>\n<style scoped>\n    .dataframe tbody tr th:only-of-type {\n        vertical-align: middle;\n    }\n\n    .dataframe tbody tr th {\n        vertical-align: top;\n    }\n\n    .dataframe thead th {\n        text-align: right;\n    }\n</style>\n<table border=\"1\" class=\"dataframe\">\n  <thead>\n    <tr style=\"text-align: right;\">\n      <th>loan_yes</th>\n      <th>0</th>\n      <th>1</th>\n    </tr>\n    <tr>\n      <th>marital_single</th>\n      <th></th>\n      <th></th>\n    </tr>\n  </thead>\n  <tbody>\n    <tr>\n      <th>0</th>\n      <td>45.0</td>\n      <td>43.0</td>\n    </tr>\n    <tr>\n      <th>1</th>\n      <td>31.0</td>\n      <td>34.0</td>\n    </tr>\n  </tbody>\n</table>\n</div>"
     },
     "execution_count": 138,
     "metadata": {},
     "output_type": "execute_result"
    }
   ]
  },
  {
   "cell_type": "markdown",
   "metadata": {
    "pycharm": {
     "name": "#%% md\n"
    }
   },
   "source": [
    "Finally, we define a function, which returns the values in the pivot table and apply it to fill the missing values of `age`."
   ]
  },
  {
   "cell_type": "code",
   "metadata": {
    "pycharm": {
     "name": "#%%\n"
    }
   },
   "source": [
    "# Define function to return an element of the pivot table\n",
    "def get_element(x):\n",
    "    return ptable.loc[x['loan_yes'], x['marital_single']]"
   ],
   "execution_count": 139,
   "outputs": []
  },
  {
   "cell_type": "code",
   "execution_count": 140,
   "outputs": [],
   "source": [
    "# Replace missing values\n",
    "df['age'].fillna(df[df['age'].isnull()].apply(get_element, axis=1), inplace=True)"
   ],
   "metadata": {
    "collapsed": false,
    "pycharm": {
     "name": "#%%\n"
    }
   }
  },
  {
   "cell_type": "markdown",
   "metadata": {
    "pycharm": {
     "name": "#%% md\n"
    }
   },
   "source": [
    "Let's take a simplified approach for `campaign`, `previous` and `age` and fill in the missing values in these columns with the median. Note that the median is likely a better choice than the mean for these columns because the means are not likely to be realistic values."
   ]
  },
  {
   "cell_type": "code",
   "execution_count": 141,
   "metadata": {},
   "outputs": [],
   "source": [
    "df['campaign'].fillna(df['campaign'].median(), inplace=True)"
   ]
  },
  {
   "cell_type": "code",
   "execution_count": 142,
   "outputs": [],
   "source": [
    "df['previous'].fillna(df['previous'].median(), inplace=True)"
   ],
   "metadata": {
    "collapsed": false,
    "pycharm": {
     "name": "#%%\n"
    }
   }
  },
  {
   "cell_type": "code",
   "execution_count": 143,
   "outputs": [],
   "source": [
    "df['age'].fillna(df['age'].median(), inplace=True)"
   ],
   "metadata": {
    "collapsed": false,
    "pycharm": {
     "name": "#%%\n"
    }
   }
  },
  {
   "cell_type": "markdown",
   "metadata": {},
   "source": [
    "## D. Rescaling Features"
   ]
  },
  {
   "cell_type": "markdown",
   "metadata": {
    "pycharm": {
     "name": "#%% md\n"
    }
   },
   "source": [
    "Many ML algorithms assume that all numerical features are on the same scale. Two standard techniques in the Python module `scikit-learn` for achieving this are:\n",
    "* MinMaxScaler - rescales a column to the interval [0,1]\n",
    "* StandardScaler - rescales a numerical column so that it has mean 0 and standard deviation 1.\n",
    "\n",
    "Here we use a third technique, called `RobustScaler` to `age` and `balance` which does a better job in the presence of outliers (we observed outliers in columns `age` and `balance`). `RobustScaler` transforms each value in a column by subtracting the median from it and then dividing by the interquartile range."
   ]
  },
  {
   "cell_type": "code",
   "execution_count": 144,
   "metadata": {},
   "outputs": [],
   "source": [
    "robust_scaler = RobustScaler()\n",
    "df[['balance','age']] = robust_scaler.fit_transform(df[['balance', 'age']])"
   ]
  },
  {
   "cell_type": "markdown",
   "metadata": {
    "pycharm": {
     "name": "#%% md\n"
    }
   },
   "source": [
    "To bring column `loan_yes` to the interval $[0,1]$ we can simply divide it by 2, as it is an ordinal columns with 2 possible values: 0, and 1."
   ]
  },
  {
   "cell_type": "code",
   "metadata": {
    "pycharm": {
     "name": "#%%\n"
    }
   },
   "source": [
    "df['loan_yes'] = df['loan_yes']/2"
   ],
   "execution_count": 145,
   "outputs": []
  },
  {
   "cell_type": "markdown",
   "metadata": {},
   "source": [
    "## E. Treatment of Outliers"
   ]
  },
  {
   "cell_type": "markdown",
   "metadata": {
    "pycharm": {
     "name": "#%% md\n"
    }
   },
   "source": [
    "#### `balance` and `age`\n",
    "\n",
    "In the previous lab exercise, we observed that `balance` and `age` contain some extreme values. Let's take a look at the box plots of `balance`,`age` to verify that they have outliers."
   ]
  },
  {
   "cell_type": "code",
   "metadata": {
    "pycharm": {
     "name": "#%%\n"
    }
   },
   "source": [
    "# df.boxplot(column=['ApplicantIncome','LoanAmount'])\n",
    "# plt.show()\n",
    "\n",
    "df.boxplot(column=['balance','age'])\n",
    "plt.show()"
   ],
   "execution_count": 146,
   "outputs": [
    {
     "data": {
      "text/plain": "<Figure size 432x288 with 1 Axes>",
      "image/png": "[encoded data removed]"
     },
     "metadata": {
      "needs_background": "light"
     },
     "output_type": "display_data"
    }
   ]
  },
  {
   "cell_type": "markdown",
   "metadata": {
    "pycharm": {
     "name": "#%% md\n"
    }
   },
   "source": [
    "Let's also take a look at their histograms after we have rescaled them."
   ]
  },
  {
   "cell_type": "code",
   "metadata": {
    "pycharm": {
     "name": "#%%\n"
    }
   },
   "source": [
    "# Create figure with two subplots\n",
    "fig = plt.figure(figsize=(16,4))\n",
    "\n",
    "# Plot ApplicantIncome\n",
    "ax1 = fig.add_subplot(1, 2, 1)\n",
    "ax1.set_title(\"Histogram of Balance\")\n",
    "ax1.set_xlabel('balance')\n",
    "ax1.set_ylabel('Balance of Applicants')\n",
    "df['balance'].hist(bins=20)\n",
    "\n",
    "# Plot LoanAmount\n",
    "ax3 = fig.add_subplot(1, 2, 2)\n",
    "ax3.set_title(\"Histogram of Age\")\n",
    "ax3.set_xlabel('age')\n",
    "ax3.set_ylabel('Age of Applicants')\n",
    "df['age'].hist(bins=20)\n",
    "\n",
    "plt.show()"
   ],
   "execution_count": 147,
   "outputs": [
    {
     "data": {
      "text/plain": "<Figure size 1152x288 with 2 Axes>",
      "image/png": "[encoded data removed]"
     },
     "metadata": {
      "needs_background": "light"
     },
     "output_type": "display_data"
    }
   ]
  },
  {
   "cell_type": "markdown",
   "metadata": {},
   "source": [
    "Both histograms are skewed to the left, which is not ideal. Many ML algorithms work best when the features are not skewed to either side."
   ]
  },
  {
   "cell_type": "markdown",
   "metadata": {
    "pycharm": {
     "name": "#%% md\n"
    }
   },
   "source": [
    "Finally, before treating the outliers, let's find the minimum values in these columns."
   ]
  },
  {
   "cell_type": "code",
   "metadata": {
    "pycharm": {
     "name": "#%%\n"
    }
   },
   "source": [
    "df[['balance', 'age']].min()"
   ],
   "execution_count": 148,
   "outputs": [
    {
     "data": {
      "text/plain": "balance   -1.060984\nage       -1.111111\ndtype: float64"
     },
     "execution_count": 148,
     "metadata": {},
     "output_type": "execute_result"
    }
   ]
  },
  {
   "cell_type": "markdown",
   "metadata": {
    "pycharm": {
     "name": "#%% md\n"
    }
   },
   "source": [
    "Since the extreme values are practically possible in both columns, i.e. some people might have large income and also apply for high-value loans, instead of ignoring the data rows with extreme values we can transform them to diminish the negative impact of outliers to ML models. A typical way to do this is to apply a log transformation. However, we do have negative values in both columns after rescaling and we need to add a constant to all values in order to shift them to a positive range before applying a log transformation.\n",
    "\n",
    "Here we are have chosen to shift the values to the interval $[1, +\\infty]$ before applying a log transformation."
   ]
  },
  {
   "cell_type": "code",
   "metadata": {
    "pycharm": {
     "name": "#%%\n"
    }
   },
   "source": [
    "# Use a log transformation to decrease the impact of outliers\n",
    "df['balance'] = np.log(df['balance']+2.26)\n",
    "df['age'] = np.log(df['age']+2.85)"
   ],
   "execution_count": 149,
   "outputs": []
  },
  {
   "cell_type": "markdown",
   "metadata": {},
   "source": [
    "Let's plot again."
   ]
  },
  {
   "cell_type": "code",
   "execution_count": 150,
   "metadata": {},
   "outputs": [
    {
     "data": {
      "text/plain": "<Figure size 1152x288 with 2 Axes>",
      "image/png": "[encoded data removed]"
     },
     "metadata": {
      "needs_background": "light"
     },
     "output_type": "display_data"
    }
   ],
   "source": [
    "# Create figure with two subplots\n",
    "fig = plt.figure(figsize=(16,4))\n",
    "\n",
    "# Plot ApplicantIncome\n",
    "ax1 = fig.add_subplot(1, 2, 1)\n",
    "ax1.set_title(\"Histogram of Balance Transformed\")\n",
    "ax1.set_xlabel('balance')\n",
    "ax1.set_ylabel('Balance of Applicants')\n",
    "df['balance'].hist(bins=20)\n",
    "\n",
    "# Plot LoanAmount\n",
    "ax3 = fig.add_subplot(1, 2, 2)\n",
    "ax3.set_title(\"Histogram of Age Transformed\")\n",
    "ax3.set_xlabel('age')\n",
    "ax3.set_ylabel('Age of Applicants')\n",
    "df['age'].hist(bins=20)\n",
    "\n",
    "plt.show()"
   ]
  },
  {
   "cell_type": "markdown",
   "metadata": {},
   "source": [
    "The histograms show that the transformed features are less skewed and have distributions closer to normal than the original features `age` and `balance`."
   ]
  },
  {
   "cell_type": "markdown",
   "metadata": {
    "pycharm": {
     "name": "#%% md\n"
    }
   },
   "source": [
    "#### `age`"
   ]
  },
  {
   "cell_type": "markdown",
   "metadata": {},
   "source": [
    "Let's examine the distribution of values in `duration`."
   ]
  },
  {
   "cell_type": "code",
   "execution_count": 151,
   "metadata": {},
   "outputs": [
    {
     "data": {
      "text/plain": "200     12\n219     11\n90      11\n150     10\n161     10\n        ..\n624      1\n630      1\n633      1\n634      1\n1823     1\nName: duration, Length: 655, dtype: int64"
     },
     "execution_count": 151,
     "metadata": {},
     "output_type": "execute_result"
    }
   ],
   "source": [
    "df['duration'].value_counts()"
   ]
  },
  {
   "cell_type": "markdown",
   "metadata": {},
   "source": [
    "Note that `duration` is rather an ordinal than a continuous numerical feature with more than 80% of its values being 360.0. None of its values appear to be actual outliers. To bring it to the interval $[0,1]$ we can divide all values by 480 (effectively applying MinMaxScaler to it). If we applied RobustScaler and/or log transformation to it instead then it would become even more skewed to the right (you may verify this)."
   ]
  },
  {
   "cell_type": "code",
   "metadata": {
    "pycharm": {
     "name": "#%%\n"
    }
   },
   "source": [
    "df['duration'] = df['duration']/550\n",
    "df['duration'].hist(bins=20)\n",
    "plt.show()"
   ],
   "execution_count": 152,
   "outputs": [
    {
     "data": {
      "text/plain": "<Figure size 432x288 with 1 Axes>",
      "image/png": "[encoded data removed]"
     },
     "metadata": {
      "needs_background": "light"
     },
     "output_type": "display_data"
    }
   ]
  },
  {
   "cell_type": "markdown",
   "metadata": {},
   "source": [
    "## F. Creation of Derived Features"
   ]
  },
  {
   "cell_type": "markdown",
   "metadata": {
    "pycharm": {
     "name": "#%% md\n"
    }
   },
   "source": [
    "The column `balance` appears to contain the balance of a customer's account on the day of the survey. The issue with this is that the day may be late in the month, so there may be a low balance in the customer's account, assuming that a person's income is added to their account at the start of the month. This could give the wrong impression of the customer's financial wellbeing when the survey is conducted."
   ]
  },
  {
   "cell_type": "code",
   "metadata": {
    "pycharm": {
     "name": "#%%\n"
    }
   },
   "source": [
    "df['balance'].hist(bins=20)\n",
    "plt.show()"
   ],
   "execution_count": 153,
   "outputs": [
    {
     "data": {
      "text/plain": "<Figure size 432x288 with 1 Axes>",
      "image/png": "[encoded data removed]"
     },
     "metadata": {
      "needs_background": "light"
     },
     "output_type": "display_data"
    }
   ]
  },
  {
   "cell_type": "code",
   "execution_count": 154,
   "metadata": {},
   "outputs": [
    {
     "data": {
      "text/plain": "<Figure size 432x288 with 1 Axes>",
      "image/png": "[encoded data removed]"
     },
     "metadata": {
      "needs_background": "light"
     },
     "output_type": "display_data"
    }
   ],
   "source": [
    "np.log(df['balance']+1).hist(bins=20)\n",
    "plt.show()"
   ]
  },
  {
   "cell_type": "markdown",
   "metadata": {},
   "source": [
    "What we can do in this case instead is:\n",
    "* Create a new feature `specific_day_balance` as the product of the *original* `balance` and `day`"
   ]
  },
  {
   "cell_type": "code",
   "metadata": {
    "pycharm": {
     "name": "#%%\n"
    }
   },
   "source": [
    "# Create TotalIncome column and apply a log transformation\n",
    "df['specific_day_balance'] = df['balance'] / df['day']"
   ],
   "execution_count": 155,
   "outputs": []
  },
  {
   "cell_type": "code",
   "execution_count": 156,
   "metadata": {},
   "outputs": [],
   "source": [
    "df[['specific_day_balance']] = robust_scaler.fit_transform(df[['specific_day_balance']])"
   ]
  },
  {
   "cell_type": "code",
   "metadata": {
    "pycharm": {
     "name": "#%%\n"
    }
   },
   "source": [
    "df[['specific_day_balance']].min()"
   ],
   "execution_count": 157,
   "outputs": [
    {
     "data": {
      "text/plain": "specific_day_balance   -0.571711\ndtype: float64"
     },
     "execution_count": 157,
     "metadata": {},
     "output_type": "execute_result"
    }
   ]
  },
  {
   "cell_type": "code",
   "metadata": {
    "pycharm": {
     "name": "#%%\n"
    }
   },
   "source": [
    "df['specific_day_balance'] = np.log(df['specific_day_balance']+2.19)"
   ],
   "execution_count": 158,
   "outputs": []
  },
  {
   "cell_type": "markdown",
   "metadata": {
    "pycharm": {
     "name": "#%% md\n"
    }
   },
   "source": [
    "Let's plot `specific_day_balance`."
   ]
  },
  {
   "cell_type": "code",
   "execution_count": 159,
   "metadata": {},
   "outputs": [
    {
     "data": {
      "text/plain": "<Figure size 432x288 with 1 Axes>",
      "image/png": "[encoded data removed]"
     },
     "metadata": {
      "needs_background": "light"
     },
     "output_type": "display_data"
    }
   ],
   "source": [
    "df['specific_day_balance'].hist(bins=20)\n",
    "plt.show()"
   ]
  },
  {
   "cell_type": "markdown",
   "source": [
    "Let's drop `balance`."
   ],
   "metadata": {
    "collapsed": false
   }
  },
  {
   "cell_type": "code",
   "execution_count": 160,
   "outputs": [],
   "source": [
    "df.drop('balance', axis=1, inplace=True)"
   ],
   "metadata": {
    "collapsed": false,
    "pycharm": {
     "name": "#%%\n"
    }
   }
  },
  {
   "cell_type": "markdown",
   "metadata": {
    "pycharm": {
     "name": "#%% md\n"
    }
   },
   "source": [
    "# G. Save the Prepared Dataset"
   ]
  },
  {
   "cell_type": "markdown",
   "metadata": {
    "pycharm": {
     "name": "#%% md\n"
    }
   },
   "source": [
    "Finally, let's save the prepared dataset as a CSV file."
   ]
  },
  {
   "cell_type": "code",
   "metadata": {
    "pycharm": {
     "name": "#%%\n"
    }
   },
   "source": [
    "df.to_csv('etivity_2_task_3_data.csv')"
   ],
   "execution_count": 161,
   "outputs": []
  }
 ],
 "metadata": {
  "kernelspec": {
   "name": "pycharm-2ae691b",
   "language": "python",
   "display_name": "PyCharm (CS4168_Etivities)"
  },
  "language_info": {
   "codemirror_mode": {
    "name": "ipython",
    "version": 3
   },
   "file_extension": ".py",
   "mimetype": "text/x-python",
   "name": "python",
   "nbconvert_exporter": "python",
   "pygments_lexer": "ipython3",
   "version": "3.8.5"
  }
 },
 "nbformat": 4,
 "nbformat_minor": 2
}